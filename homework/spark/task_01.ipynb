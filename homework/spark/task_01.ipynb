{
 "cells": [
  {
   "cell_type": "code",
   "execution_count": null,
   "metadata": {},
   "outputs": [],
   "source": [
    "import pyspark "
   ]
  },
  {
   "cell_type": "code",
   "execution_count": null,
   "metadata": {},
   "outputs": [],
   "source": [
    "conf = pyspark.SparkConf()\n",
    "conf.setMaster('spark://spark-master:7077')\n",
    "spark_context = pyspark.SparkContext(conf=conf) "
   ]
  },
  {
   "cell_type": "code",
   "execution_count": null,
   "metadata": {},
   "outputs": [],
   "source": [
    "def calculate_weight(helpful_yes, helpful_no):\n",
    "    def _get_int(st: str) -> int:\n",
    "        try:\n",
    "            return int(st.split('.')[0])\n",
    "        except ValueError:\n",
    "            return 1\n",
    "    try:\n",
    "        return _get_int(helpful_yes) / (_get_int(helpful_yes) + _get_int(helpful_no))\n",
    "    except ZeroDivisionError:\n",
    "        return 0"
   ]
  },
  {
   "cell_type": "code",
   "execution_count": null,
   "metadata": {},
   "outputs": [],
   "source": [
    "data = spark_context.textFile('/user-data/combined/reviews.csv')\n",
    "header_data = data.first()\n",
    "result_data = data.filter(lambda row: row != header_data) \\\n",
    "    .map(lambda line: line.split(\",\")) \\\n",
    "    .filter(lambda line: len(line) > 5) \\\n",
    "    .filter(lambda line: line[4].isdigit()) \\\n",
    "    .map(lambda line: (line[1], int(line[4]) * calculate_weight(line[6], line[7]))) \\\n",
    "    .map(lambda line: (line[0], (line[1], 1))) \\\n",
    "    .reduceByKey(lambda val1, val2: (val1[0] + val2[0], val1[1] + val2[1])) \\\n",
    "    .mapValues(lambda x: x[0] / x[1])\n",
    "\n",
    "    "
   ]
  },
  {
   "cell_type": "code",
   "execution_count": null,
   "metadata": {},
   "outputs": [],
   "source": [
    "print(result_data.count())"
   ]
  },
  {
   "cell_type": "code",
   "execution_count": null,
   "metadata": {},
   "outputs": [],
   "source": [
    "result_data.take(10)"
   ]
  }
 ],
 "metadata": {
  "kernelspec": {
   "display_name": "Python 3.10.0 64-bit",
   "language": "python",
   "name": "python3"
  },
  "language_info": {
   "codemirror_mode": {
    "name": "ipython",
    "version": 3
   },
   "file_extension": ".py",
   "mimetype": "text/x-python",
   "name": "python",
   "nbconvert_exporter": "python",
   "pygments_lexer": "ipython3",
   "version": "3.10.0"
  },
  "orig_nbformat": 4,
  "vscode": {
   "interpreter": {
    "hash": "aee8b7b246df8f9039afb4144a1f6fd8d2ca17a180786b69acc140d282b71a49"
   }
  }
 },
 "nbformat": 4,
 "nbformat_minor": 2
}
