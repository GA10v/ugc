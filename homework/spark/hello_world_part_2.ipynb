{
 "cells": [
  {
   "cell_type": "code",
   "execution_count": null,
   "metadata": {},
   "outputs": [],
   "source": [
    "import pyspark "
   ]
  },
  {
   "cell_type": "code",
   "execution_count": null,
   "metadata": {},
   "outputs": [],
   "source": [
    "conf = pyspark.SparkConf()\n",
    "conf.setMaster('spark://spark-master:7077')\n",
    "spark_context = pyspark.SparkContext(conf=conf) "
   ]
  },
  {
   "cell_type": "code",
   "execution_count": null,
   "metadata": {},
   "outputs": [],
   "source": [
    "# Открытие текстового файла и превращение его в RDD.\n",
    "# К докеру со spark-worker примаунчена папка /user-data с вашего диска, в которой лежат скачанные данные.\n",
    "data = spark_context.textFile('/user-data/combined/reviews.csv')\n",
    "# Берём первую строку, для дальнейшей фильтрации. Первая строка отвечает за заголовки, они нас не интересуют.\n",
    "header_data = data.first()\n",
    "# Начались вычисления. Первая функция пропускает все данные кроме первой строки с заголовками.\n",
    "# Функция `map` разделяет строку на колонки, используя разделитель `,`.\n",
    "result_data = data.filter(lambda row: row != header_data) \\\n",
    "    .map(lambda line: line.split(\",\"))"
   ]
  },
  {
   "cell_type": "code",
   "execution_count": null,
   "metadata": {},
   "outputs": [],
   "source": [
    "result_data.take(10)"
   ]
  },
  {
   "cell_type": "code",
   "execution_count": null,
   "metadata": {},
   "outputs": [],
   "source": [
    "result_data = result_data.filter(lambda line: len(line) > 5) "
   ]
  },
  {
   "cell_type": "code",
   "execution_count": null,
   "metadata": {},
   "outputs": [],
   "source": [
    "# Всего\n",
    "print(result_data.count())\n",
    "# Ненужных данных\n",
    "print(result_data.filter(lambda line: not line[4].isdigit()).count()) "
   ]
  },
  {
   "cell_type": "code",
   "execution_count": null,
   "metadata": {},
   "outputs": [],
   "source": [
    "# Пропустим неправильно разбитые строки,\n",
    "result_data = result_data.filter(lambda line: line[4].isdigit()) "
   ]
  },
  {
   "cell_type": "code",
   "execution_count": null,
   "metadata": {},
   "outputs": [],
   "source": [
    "# Нас интересуют всего два столбца — key и stars\n",
    "result_data = result_data.map(lambda line: (line[1], int(line[4])))"
   ]
  },
  {
   "cell_type": "code",
   "execution_count": null,
   "metadata": {},
   "outputs": [],
   "source": [
    "# Узнаем количество отзывов (каждому элементу добавляем 1)\n",
    "result_data = result_data.map(lambda line: (line[0], (line[1], 1)))"
   ]
  },
  {
   "cell_type": "code",
   "execution_count": null,
   "metadata": {},
   "outputs": [],
   "source": [
    "# Посчитаем сумму рейтингов и количества отзывов по ключу\n",
    "result_data = result_data.reduceByKey(lambda val1, val2: (val1[0] + val2[0], val1[1] + val2[1]))"
   ]
  },
  {
   "cell_type": "code",
   "execution_count": null,
   "metadata": {},
   "outputs": [],
   "source": [
    "# посчитаем среднее арифметическое для каждой строки\n",
    "result_data = result_data.mapValues(lambda x: x[0] / x[1]) "
   ]
  },
  {
   "cell_type": "code",
   "execution_count": null,
   "metadata": {},
   "outputs": [],
   "source": [
    "# Весь пайплайн выше можно переписать в одну команду\n",
    "data = spark_context.textFile('/user-data/combined/reviews.csv')\n",
    "header_data = data.first()\n",
    "result_data = data.filter(lambda row: row != header_data) \\\n",
    "    .map(lambda line: line.split(\",\")) \\\n",
    "    .filter(lambda line: len(line) > 5) \\\n",
    "    .filter(lambda line: line[4].isdigit()) \\\n",
    "    .map(lambda line: (line[1], int(line[4]))) \\\n",
    "    .map(lambda line: (line[0], (line[1], 1))) \\\n",
    "    .reduceByKey(lambda val1, val2: (val1[0] + val2[0], val1[1] + val2[1])) \\\n",
    "    .mapValues(lambda x: x[0] / x[1]) "
   ]
  },
  {
   "cell_type": "code",
   "execution_count": null,
   "metadata": {},
   "outputs": [],
   "source": [
    "# сохраним данные в файл\n",
    "result_data.coalesce(1).saveAsTextFile('/user-data/combined/results')"
   ]
  }
 ],
 "metadata": {
  "kernelspec": {
   "display_name": "Python 3.10.0 64-bit",
   "language": "python",
   "name": "python3"
  },
  "language_info": {
   "codemirror_mode": {
    "name": "ipython",
    "version": 3
   },
   "file_extension": ".py",
   "mimetype": "text/x-python",
   "name": "python",
   "nbconvert_exporter": "python",
   "pygments_lexer": "ipython3",
   "version": "3.10.0"
  },
  "orig_nbformat": 4,
  "vscode": {
   "interpreter": {
    "hash": "aee8b7b246df8f9039afb4144a1f6fd8d2ca17a180786b69acc140d282b71a49"
   }
  }
 },
 "nbformat": 4,
 "nbformat_minor": 2
}
