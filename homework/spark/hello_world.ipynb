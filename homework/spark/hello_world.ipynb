{
 "cells": [
  {
   "cell_type": "code",
   "execution_count": 2,
   "metadata": {},
   "outputs": [],
   "source": [
    "import pyspark "
   ]
  },
  {
   "cell_type": "code",
   "execution_count": null,
   "metadata": {},
   "outputs": [],
   "source": [
    "conf = pyspark.SparkConf()\n",
    "conf.setMaster('spark://spark-master:7077')\n",
    "spark_context = pyspark.SparkContext(conf=conf) "
   ]
  },
  {
   "cell_type": "code",
   "execution_count": null,
   "metadata": {},
   "outputs": [],
   "source": [
    "# Создаются данные для вычислений. range возвращает generator, а не лист =)\n",
    "big_list = range(10000)\n",
    "# Создаётся RDD структура.\n",
    "# Вызов parallelize превращает массив в распределённый для дальнейшей работы в кластере.\n",
    "# Второй аргумент 2 — это количество частей, на которые делятся данные.\n",
    "rdd = spark_context.parallelize(big_list, 2)\n",
    "# Создаётся фильтр только по чётным числам. lambda-функция детерминированная.\n",
    "odds = rdd.filter(lambda x: x % 2 != 0)\n",
    "# Спрашиваем кластер первые 5 результатов работы.\n",
    "print(odds.take(5)) "
   ]
  }
 ],
 "metadata": {
  "kernelspec": {
   "display_name": "Python 3.10.0 64-bit",
   "language": "python",
   "name": "python3"
  },
  "language_info": {
   "codemirror_mode": {
    "name": "ipython",
    "version": 3
   },
   "file_extension": ".py",
   "mimetype": "text/x-python",
   "name": "python",
   "nbconvert_exporter": "python",
   "pygments_lexer": "ipython3",
   "version": "3.10.0"
  },
  "orig_nbformat": 4,
  "vscode": {
   "interpreter": {
    "hash": "aee8b7b246df8f9039afb4144a1f6fd8d2ca17a180786b69acc140d282b71a49"
   }
  }
 },
 "nbformat": 4,
 "nbformat_minor": 2
}
