{
 "cells": [
  {
   "cell_type": "code",
   "execution_count": 1,
   "metadata": {},
   "outputs": [],
   "source": [
    "from clickhouse_driver import Client\n",
    "client = Client(host='localhost')"
   ]
  },
  {
   "cell_type": "code",
   "execution_count": 2,
   "metadata": {},
   "outputs": [
    {
     "data": {
      "text/plain": [
       "[('_temporary_and_external_tables',), ('default',), ('system',)]"
      ]
     },
     "execution_count": 2,
     "metadata": {},
     "output_type": "execute_result"
    }
   ],
   "source": [
    "# вывод списка баз данных\n",
    "client.execute('SHOW DATABASES')"
   ]
  },
  {
   "cell_type": "code",
   "execution_count": 3,
   "metadata": {},
   "outputs": [
    {
     "data": {
      "text/plain": [
       "[('clickhouse-node1', 9000, 0, '', 3, 0),\n",
       " ('clickhouse-node3', 9000, 0, '', 2, 0),\n",
       " ('clickhouse-node2', 9000, 0, '', 1, 0),\n",
       " ('clickhouse-node4', 9000, 0, '', 0, 0)]"
      ]
     },
     "execution_count": 3,
     "metadata": {},
     "output_type": "execute_result"
    }
   ],
   "source": [
    "# создание базы данных example в кластере company_cluster\n",
    "client.execute('CREATE DATABASE IF NOT EXISTS example ON CLUSTER company_cluster')"
   ]
  },
  {
   "cell_type": "code",
   "execution_count": 4,
   "metadata": {},
   "outputs": [
    {
     "data": {
      "text/plain": [
       "[('_temporary_and_external_tables',), ('default',), ('example',), ('system',)]"
      ]
     },
     "execution_count": 4,
     "metadata": {},
     "output_type": "execute_result"
    }
   ],
   "source": [
    "client.execute('SHOW DATABASES')\n",
    "\n",
    "    "
   ]
  },
  {
   "cell_type": "code",
   "execution_count": 5,
   "metadata": {},
   "outputs": [
    {
     "data": {
      "text/plain": [
       "[('clickhouse-node1', 9000, 0, '', 3, 0),\n",
       " ('clickhouse-node3', 9000, 0, '', 2, 0),\n",
       " ('clickhouse-node4', 9000, 0, '', 1, 0),\n",
       " ('clickhouse-node2', 9000, 0, '', 0, 0)]"
      ]
     },
     "execution_count": 5,
     "metadata": {},
     "output_type": "execute_result"
    }
   ],
   "source": [
    "# создание таблицы regular_table\n",
    "client.execute('CREATE TABLE example.regular_table ON CLUSTER company_cluster (id Int64, x Int32) Engine=MergeTree() ORDER BY id')"
   ]
  },
  {
   "cell_type": "code",
   "execution_count": 6,
   "metadata": {},
   "outputs": [
    {
     "data": {
      "text/plain": [
       "[]"
      ]
     },
     "execution_count": 6,
     "metadata": {},
     "output_type": "execute_result"
    }
   ],
   "source": [
    "# запись данных в таблицу\n",
    "client.execute('INSERT INTO example.regular_table (id, x) VALUES (1, 10), (2, 20)')"
   ]
  },
  {
   "cell_type": "code",
   "execution_count": 7,
   "metadata": {},
   "outputs": [
    {
     "data": {
      "text/plain": [
       "[(1, 10), (2, 20)]"
      ]
     },
     "execution_count": 7,
     "metadata": {},
     "output_type": "execute_result"
    }
   ],
   "source": [
    "# вывод данных\n",
    "client.execute('SELECT * FROM example.regular_table')"
   ]
  },
  {
   "cell_type": "markdown",
   "metadata": {},
   "source": [
    "создание дистрибутивной реплицированной таблицы:\n",
    "\n",
    "- зайти в контейнер первого шарда '''$ docker exec -it clickhouse-node1 bash'''\n",
    "- запустить Клиент командной строки '''$ clickhouse-client'''\n",
    "- выполнить команды:\n",
    "    - CREATE DATABASE shard;\n",
    "\n",
    "    - CREATE DATABASE replica;\n",
    "\n",
    "    - CREATE TABLE shard.test (id Int64, event_time DateTime) Engine=ReplicatedMergeTree('/clickhouse/tables/shard1/test', 'replica_1') PARTITION BY toYYYYMMDD(event_time) ORDER BY id;\n",
    "\n",
    "    - CREATE TABLE replica.test (id Int64, event_time DateTime) Engine=ReplicatedMergeTree('/clickhouse/tables/shard2/test', 'replica_2') PARTITION BY toYYYYMMDD(event_time) ORDER BY id;\n",
    "\n",
    "    - CREATE TABLE default.test (id Int64, event_time DateTime) ENGINE = Distributed('company_cluster', '', test, rand());\n",
    "\n",
    "- зайти в контейнер первого шарда '''$ docker exec -it clickhouse-node3 bash'''\n",
    "- запустить Клиент командной строки '''$ clickhouse-client'''\n",
    "- выполнить команды:\n",
    "    - CREATE DATABASE shard;\n",
    "\n",
    "    - CREATE DATABASE replica;\n",
    "\n",
    "    - CREATE TABLE shard.test (id Int64, event_time DateTime) Engine=ReplicatedMergeTree('/clickhouse/tables/shard2/test', 'replica_1') PARTITION BY toYYYYMMDD(event_time) ORDER BY id;\n",
    "\n",
    "    - CREATE TABLE replica.test (id Int64, event_time DateTime) Engine=ReplicatedMergeTree('/clickhouse/tables/shard1/test', 'replica_2') PARTITION BY toYYYYMMDD(event_time) ORDER BY id;\n",
    "\n",
    "    - CREATE TABLE default.test (id Int64, event_time DateTime) ENGINE = Distributed('company_cluster', '', test, rand());\n"
   ]
  },
  {
   "cell_type": "code",
   "execution_count": 8,
   "metadata": {},
   "outputs": [
    {
     "data": {
      "text/plain": [
       "[]"
      ]
     },
     "execution_count": 8,
     "metadata": {},
     "output_type": "execute_result"
    }
   ],
   "source": [
    "# Запись данных в дистрибутивную таблицу\n",
    "client.execute('INSERT INTO default.test (id, event_time) VALUES (1, today()), (2, today()), (3, now())')"
   ]
  },
  {
   "cell_type": "code",
   "execution_count": 9,
   "metadata": {},
   "outputs": [
    {
     "data": {
      "text/plain": [
       "[(1, datetime.datetime(2022, 11, 26, 0, 0)),\n",
       " (3, datetime.datetime(2022, 11, 26, 4, 20, 8))]"
      ]
     },
     "execution_count": 9,
     "metadata": {},
     "output_type": "execute_result"
    }
   ],
   "source": [
    "# вывод данных из таблицы реплики\n",
    "client.execute('SELECT * FROM replica.test') "
   ]
  },
  {
   "cell_type": "code",
   "execution_count": 10,
   "metadata": {},
   "outputs": [
    {
     "data": {
      "text/plain": [
       "[(2, datetime.datetime(2022, 11, 26, 0, 0))]"
      ]
     },
     "execution_count": 10,
     "metadata": {},
     "output_type": "execute_result"
    }
   ],
   "source": [
    "# вывод данных из таблицы реплики\n",
    "client.execute('SELECT * FROM shard.test') "
   ]
  },
  {
   "cell_type": "code",
   "execution_count": 11,
   "metadata": {},
   "outputs": [
    {
     "name": "stdout",
     "output_type": "stream",
     "text": [
      "[(1, datetime.datetime(2022, 11, 26, 0, 0)), (3, datetime.datetime(2022, 11, 26, 4, 20, 8)), (2, datetime.datetime(2022, 11, 26, 0, 0))]\n"
     ]
    }
   ],
   "source": [
    "# вывод всех данных из дистрибутивной таблицы\n",
    "print(client.execute('SELECT * FROM default.test') )"
   ]
  }
 ],
 "metadata": {
  "kernelspec": {
   "display_name": "Python 3.10.0 64-bit",
   "language": "python",
   "name": "python3"
  },
  "language_info": {
   "codemirror_mode": {
    "name": "ipython",
    "version": 3
   },
   "file_extension": ".py",
   "mimetype": "text/x-python",
   "name": "python",
   "nbconvert_exporter": "python",
   "pygments_lexer": "ipython3",
   "version": "3.10.0"
  },
  "orig_nbformat": 4,
  "vscode": {
   "interpreter": {
    "hash": "aee8b7b246df8f9039afb4144a1f6fd8d2ca17a180786b69acc140d282b71a49"
   }
  }
 },
 "nbformat": 4,
 "nbformat_minor": 2
}
