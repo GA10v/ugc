{
 "cells": [
  {
   "cell_type": "code",
   "execution_count": 1,
   "metadata": {},
   "outputs": [],
   "source": [
    "from utils.settings import settings\n",
    "from mongo.mongo import MongoStorage\n",
    "from utils.base_benchmark import BaseBenchmark"
   ]
  },
  {
   "cell_type": "code",
   "execution_count": 2,
   "metadata": {},
   "outputs": [],
   "source": [
    "storage = MongoStorage()\n",
    "benchmark = BaseBenchmark(storage)"
   ]
  },
  {
   "cell_type": "markdown",
   "metadata": {},
   "source": [
    "Tecт 1: Тестирование вставки данных о событиях с разным размером батча. (нет записей в таблице)"
   ]
  },
  {
   "cell_type": "code",
   "execution_count": 3,
   "metadata": {},
   "outputs": [
    {
     "name": "stdout",
     "output_type": "stream",
     "text": [
      "========================================\n",
      "- Batch size: 1 items;\n",
      "Загрузка батчами выполнена за 0.05738\n",
      "========================================\n",
      "- Batch size: 10 items;\n",
      "Загрузка батчами выполнена за 0.00691\n",
      "========================================\n",
      "- Batch size: 100 items;\n",
      "Загрузка батчами выполнена за 0.02028\n",
      "========================================\n",
      "- Batch size: 1000 items;\n",
      "Загрузка батчами выполнена за 0.11689\n",
      "========================================\n",
      "- Batch size: 10000 items;\n",
      "Загрузка батчами выполнена за 0.96733\n"
     ]
    }
   ],
   "source": [
    "benchmark.test_insert(1)\n",
    "benchmark.test_insert(10)\n",
    "benchmark.test_insert(100)\n",
    "benchmark.test_insert(1000)\n",
    "benchmark.test_insert(10000)\n"
   ]
  },
  {
   "cell_type": "markdown",
   "metadata": {},
   "source": [
    "Tecт 2: Тестирование поиска данных о событиях. (< 15_000 записей в таблице)"
   ]
  },
  {
   "cell_type": "code",
   "execution_count": 4,
   "metadata": {},
   "outputs": [],
   "source": [
    "benchmark.insert_searchable_data()"
   ]
  },
  {
   "cell_type": "code",
   "execution_count": 5,
   "metadata": {},
   "outputs": [
    {
     "name": "stdout",
     "output_type": "stream",
     "text": [
      "{'_id': ObjectId('63951b197fe135a52a1b82cb'), 'user_id': 'df78a086-d301-4029-a4c3-52ce2f2ab4f9', 'movie_id': '4796fe00-fe9c-4def-a471-a9a4d448b60d', 'rating': 1, 'event_time': datetime.datetime(2022, 12, 11, 2, 49, 45)}\n",
      "Поиск фильма выполнена за 0.0026\n"
     ]
    }
   ],
   "source": [
    "benchmark.test_select(storage)"
   ]
  },
  {
   "cell_type": "markdown",
   "metadata": {},
   "source": [
    "Tecт 3: Тестирование вставки батча в 1_000_000 записей. (< 15_000 записей в таблице)."
   ]
  },
  {
   "cell_type": "code",
   "execution_count": 6,
   "metadata": {},
   "outputs": [
    {
     "name": "stdout",
     "output_type": "stream",
     "text": [
      "========================================\n",
      "- Batch size: 1000000 items;\n",
      "Загрузка батчами выполнена за 102.30085\n"
     ]
    }
   ],
   "source": [
    "benchmark.test_insert(1000000)"
   ]
  },
  {
   "cell_type": "markdown",
   "metadata": {},
   "source": [
    "Tecт 4: Тестирование вставки данных о событиях с разным размером батча. (1_000_000 записей в таблице)."
   ]
  },
  {
   "cell_type": "code",
   "execution_count": 7,
   "metadata": {},
   "outputs": [
    {
     "name": "stdout",
     "output_type": "stream",
     "text": [
      "========================================\n",
      "- Batch size: 1 items;\n",
      "Загрузка батчами выполнена за 0.02696\n",
      "========================================\n",
      "- Batch size: 10 items;\n",
      "Загрузка батчами выполнена за 0.00809\n",
      "========================================\n",
      "- Batch size: 100 items;\n",
      "Загрузка батчами выполнена за 0.01813\n",
      "========================================\n",
      "- Batch size: 1000 items;\n",
      "Загрузка батчами выполнена за 0.2175\n",
      "========================================\n",
      "- Batch size: 10000 items;\n",
      "Загрузка батчами выполнена за 1.30446\n"
     ]
    }
   ],
   "source": [
    "benchmark.test_insert(1)\n",
    "benchmark.test_insert(10)\n",
    "benchmark.test_insert(100)\n",
    "benchmark.test_insert(1000)\n",
    "benchmark.test_insert(10000)\n"
   ]
  },
  {
   "cell_type": "markdown",
   "metadata": {},
   "source": [
    "Тест 5: Тестирование поиска данных о событиях. (1_000_000 записей в таблице)"
   ]
  },
  {
   "cell_type": "code",
   "execution_count": 8,
   "metadata": {},
   "outputs": [
    {
     "name": "stdout",
     "output_type": "stream",
     "text": [
      "{'_id': ObjectId('63951b197fe135a52a1b82cb'), 'user_id': 'df78a086-d301-4029-a4c3-52ce2f2ab4f9', 'movie_id': '4796fe00-fe9c-4def-a471-a9a4d448b60d', 'rating': 1, 'event_time': datetime.datetime(2022, 12, 11, 2, 49, 45)}\n",
      "Поиск фильма выполнена за 0.004\n"
     ]
    }
   ],
   "source": [
    "benchmark.test_select(storage)"
   ]
  },
  {
   "cell_type": "markdown",
   "metadata": {},
   "source": [
    "Тест 6: Тестирование обновления данных о событиях. (1_000_000 записей в таблице)"
   ]
  },
  {
   "cell_type": "code",
   "execution_count": 9,
   "metadata": {},
   "outputs": [
    {
     "name": "stdout",
     "output_type": "stream",
     "text": [
      "Тест обновления выполнена за 17.69856\n"
     ]
    }
   ],
   "source": [
    "benchmark.test_select_with_update(storage)"
   ]
  }
 ],
 "metadata": {
  "kernelspec": {
   "display_name": "Python 3.10.0 64-bit",
   "language": "python",
   "name": "python3"
  },
  "language_info": {
   "codemirror_mode": {
    "name": "ipython",
    "version": 3
   },
   "file_extension": ".py",
   "mimetype": "text/x-python",
   "name": "python",
   "nbconvert_exporter": "python",
   "pygments_lexer": "ipython3",
   "version": "3.10.0"
  },
  "orig_nbformat": 4,
  "vscode": {
   "interpreter": {
    "hash": "aee8b7b246df8f9039afb4144a1f6fd8d2ca17a180786b69acc140d282b71a49"
   }
  }
 },
 "nbformat": 4,
 "nbformat_minor": 2
}
