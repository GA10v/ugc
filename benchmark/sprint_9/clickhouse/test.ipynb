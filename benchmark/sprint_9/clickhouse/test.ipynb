{
 "cells": [
  {
   "cell_type": "code",
   "execution_count": 1,
   "metadata": {},
   "outputs": [],
   "source": [
    "from utils.settings import settings\n",
    "from utils.clickhouse import ClickhouseClient\n",
    "from utils import utils"
   ]
  },
  {
   "cell_type": "code",
   "execution_count": 2,
   "metadata": {},
   "outputs": [],
   "source": [
    "ch_client = ClickhouseClient(host=settings.clickhouse.HOST)\n",
    "\n",
    "table_name = settings.test_data.TABLE\n",
    "movie_id = settings.test_data.UUID\n",
    "\n",
    "ch_client.create_distributed_table(table_name=table_name)"
   ]
  },
  {
   "cell_type": "markdown",
   "metadata": {},
   "source": [
    "Tecт 1: Тестирование вставки данных о событиях с разным размером батча. (нет записей в таблице)"
   ]
  },
  {
   "cell_type": "code",
   "execution_count": 3,
   "metadata": {},
   "outputs": [
    {
     "name": "stdout",
     "output_type": "stream",
     "text": [
      "========================================\n",
      "- Batch size: 1 items; \n",
      "- Benchmark: 0.012984991073608398 sec.\n",
      "========================================\n",
      "- Batch size: 10 items; \n",
      "- Benchmark: 0.02708888053894043 sec.\n",
      "========================================\n",
      "- Batch size: 100 items; \n",
      "- Benchmark: 0.02872490882873535 sec.\n",
      "========================================\n",
      "- Batch size: 1000 items; \n",
      "- Benchmark: 0.041142940521240234 sec.\n",
      "========================================\n",
      "- Batch size: 10000 items; \n",
      "- Benchmark: 0.10674190521240234 sec.\n"
     ]
    }
   ],
   "source": [
    "utils.test_insert_batch(client=ch_client, table_name=table_name)"
   ]
  },
  {
   "cell_type": "markdown",
   "metadata": {},
   "source": [
    "Tecт 2: Тестирование поиска данных о событиях. (< 15_000 записей в таблице)"
   ]
  },
  {
   "cell_type": "code",
   "execution_count": 4,
   "metadata": {},
   "outputs": [
    {
     "name": "stdout",
     "output_type": "stream",
     "text": [
      "{'movie_id': '4796fe00-fe9c-4def-a471-a9a4d448b60d', 'likes': ['41a69700-d014-4bc3-aafb-9d2e1100a025', '6fe80ae7-66fc-4472-a7f0-5d7fdd3004b1', 'dd7f5c58-d4be-401b-bb55-6daed14c96c0', '8f092fcd-1744-464f-a783-d9a6c4ec59d5', 'f093340c-d776-4249-baa6-0d59fbecfaad', '58415d27-2a5e-40fc-a8e5-0213f357fc54', '378fd24c-33ed-430b-8fed-1547f6717ea8', '5da55e02-e760-4687-a07a-e440d1ec5552', 'a8d3b9d9-dbb3-48d6-a561-3cb71fc9182a', '47c115b9-1356-4806-8143-e6606b666b20', '66301798-9114-43a2-b42f-32129a585cac', 'a5019b78-6dcd-46f8-872e-a1273642411d', '8aa77ed2-30ff-44f2-820c-6426df08dee7', '09518b46-3e1f-4e1b-966f-3bf478a6fe17', '3cb2cc5c-b006-446c-82ec-ce98ba4207af', '75ffa2ec-a473-4613-9831-37eeec8e2b8b', 'cdb0037a-ecf1-4fdd-93e8-cd844799179d', 'ea3f9ceb-d61b-4f23-983a-e32a576abed8', '48695fdb-fa2a-4fb6-80a2-faf3272afc29', '8e31d9ac-70ec-45ad-8c43-3b198d7f1037', 'eb353a2b-c49c-4637-9353-2954e51b9dc1', '09e363cf-c401-4ffc-b492-567229bfc59a', '3d8a1f63-c886-4ef3-b0ae-111f01aca6ae', 'b85c980f-ab54-489a-8160-4333e90162bf', '6a19bca7-72ea-433e-9531-8d77058585c2', 'dcaf8556-8aba-4811-8ec8-365982b30b8c', '5615de1b-ef82-403d-982b-9c0500b44d9f', '62637940-50c4-4f47-b4de-6cb8a44822dd', 'b813f2d6-013a-457e-a0c5-9b4b63c5ef63', 'f8275d8f-d957-41a7-b585-024de21ebfdb', '98dee99f-030f-4e02-80d6-72923ad24d4e', '79d4d97d-1cc1-43a5-abf3-f1b4859fa957', '4b090a3d-075d-49c4-b8f4-db4689478240', '253c3e82-3ea1-487f-9bbb-e48ede6962f8', '349df154-8b5a-45d0-8200-201224879231', '044721a4-cb13-4847-9f1b-3c09f849ee8d', '8f2af408-8c35-4d64-bfcb-1745ead84d78', 'd18cd6ca-f225-484a-8caf-4c536158c1fd', '1b675afc-a57a-4f11-b230-d1c300425f1d', '581dca84-49bf-48f5-9308-2771bb2ed29e', 'b2dca8d6-24ce-4fcb-a174-31b423003fd4', '9c0d70d3-53a3-428b-b1de-84fc0218bd69', '2b73054f-abbd-4287-a612-bca208e4168f', '241beff0-d776-4039-83a4-5f847995cf8e', '59d46e67-073d-4219-90be-84a8fa1bb5a9', '35ab09ba-b8ea-4ecf-b7a2-c055c9447657', 'b75eb82e-1641-4362-aa81-bc00ca5fe6bd', '73c93d83-c19f-47af-8a94-8c2fdf973667', '9c634d3f-10bd-466f-9f58-f95854272c59', '185fa11e-55eb-40c7-9ff6-96f23d7eaf26', '585de5a3-8d9f-42df-b516-6926238c1782', 'ede4975b-3d10-445a-a031-ddc96ee6ae5c', 'a8012ab4-6f9e-4860-b015-8a3fab6241c1', 'a581c37f-e7cb-4fb5-93df-40dafece6fbe', '85d75ad0-fddc-4c39-83fe-72186e5156aa', '50d5d233-86fd-467c-9c71-c3aa7bd443b0', '7bf099cf-f2e8-4e44-9b8e-cc1a107ca08c'], 'dislikes': ['4fdf9452-7ee0-4c7e-a803-070bcacc368f', '1c5070c5-10c8-476a-97af-d91a10fb54a8', 'f14f2636-d319-408d-ac4f-a5e5a5768a25', 'f64c09f3-ba61-4c37-aff3-b0aaee7472f2', 'b92943d2-2030-449b-8cc9-00fb26c73428', '678d3957-b196-46b4-b8ca-18da977d4964', '92ecb0d3-7611-44c6-86ee-763c9740d892', '36c77d6c-ed04-4062-8046-bcad431ace82', 'bcdb0265-a132-49cf-8571-4a84f01c2752', '76a2070e-98aa-4366-8cba-639ad22af2fc', 'a820bd23-e1bf-4a93-aae7-820be4f6fb0c', '834b2036-86eb-47b6-92fa-7faa2a802bff', 'f6864bb9-6c02-4a3e-8d17-ddb0ade70fe1', '988b73d8-db1e-4398-a763-b4ea9e64cdcf', '2d23f28c-adb1-41d4-953d-df5c7ff5465b', '571b9e10-49b7-4d52-ba3c-b5fbeac36c82', '57a3f87e-6c59-4dc9-84d6-e1f89578d4d6', 'fd623e53-c9d3-4a77-a662-5f3be90d97d2', '382fe818-cda8-4652-9867-6874a9ad2239', 'e6fe8cd6-d6cc-442f-8500-c734fd5672bc', '56a0af24-857c-4ecf-8d4c-40ab9408020a', '55286abf-c666-4a17-b999-4ca9025bc3b1', 'c56c51af-468d-47de-97de-0372f22affcc', '5f5dbba9-0c07-453f-9774-1b689b7d5239', '752fdcfb-00b4-480e-9f80-c4712c05c2bc', '7e748e5a-e0da-4cac-85d2-6266fb7b02f4', '64004388-3bcb-4615-9234-a2eac9cd3160', 'bafb14d5-4fdb-441a-a97a-0244eced83a0', 'ba7cbc95-62c7-46ce-9c36-560873d2b38d', '72a77ab6-6470-46e0-be97-24fd428ceb99', '40b1088d-55d7-4a06-b2ab-b4fefa944acb', '3c3d0661-12bb-40ee-a237-84e68e3efa12', '761d2876-111e-402f-96d7-e87b7ee285a5', '443aa00f-2472-4149-91a8-78f2aabc1413', 'e5156e1e-52d8-4a5e-8dbb-488e53c894b7', 'f55dd3fe-8df6-4593-9e8f-e5cc6579f92c', 'b6b40209-a45a-4363-af18-2624849438b9', 'df0b97b3-d4ac-4773-832f-cf6c574d3806', '29c5bfd0-4b13-404b-bcce-7aa42e1e168d', '264bf203-ae34-410a-97d3-d12a5c151f3f', '1b12ebe4-9a63-4677-90b9-660f2ec6f2c3', '81de199f-5bae-4824-8022-c6a17720d21b', 'f8d661ca-8517-4ca1-ad93-f378a5591ab6'], 'rating': 5.7, 'count': 100}\n",
      "========================================\n",
      "- Records: 11211 items; \n",
      "- Benchmark: 0.02718186378479004 sec.\n"
     ]
    }
   ],
   "source": [
    "utils.test_select(client=ch_client, table_name=table_name, movie_id=movie_id)"
   ]
  },
  {
   "cell_type": "markdown",
   "metadata": {},
   "source": [
    "Tecт 3: Тестирование вставки батча в 1_000_000 записей. (< 15_000 записей в таблице)."
   ]
  },
  {
   "cell_type": "code",
   "execution_count": 5,
   "metadata": {},
   "outputs": [
    {
     "name": "stdout",
     "output_type": "stream",
     "text": [
      "========================================\n",
      "- batch_size: 1000000 items; \n",
      "- Benchmark: 8.515558004379272 sec.\n"
     ]
    }
   ],
   "source": [
    "utils.stress_test_insert(client=ch_client, table_name=table_name)"
   ]
  },
  {
   "cell_type": "markdown",
   "metadata": {},
   "source": [
    "Tecт 4: Тестирование вставки данных о событиях с разным размером батча. (1_000_000 записей в таблице)."
   ]
  },
  {
   "cell_type": "code",
   "execution_count": 6,
   "metadata": {},
   "outputs": [
    {
     "name": "stdout",
     "output_type": "stream",
     "text": [
      "========================================\n",
      "- Batch size: 1 items; \n",
      "- Benchmark: 0.00836181640625 sec.\n",
      "========================================\n",
      "- Batch size: 10 items; \n",
      "- Benchmark: 0.008626222610473633 sec.\n",
      "========================================\n",
      "- Batch size: 100 items; \n",
      "- Benchmark: 0.006154060363769531 sec.\n",
      "========================================\n",
      "- Batch size: 1000 items; \n",
      "- Benchmark: 0.03669619560241699 sec.\n",
      "========================================\n",
      "- Batch size: 10000 items; \n",
      "- Benchmark: 0.09273505210876465 sec.\n"
     ]
    }
   ],
   "source": [
    "utils.test_insert_batch(client=ch_client, table_name=table_name)"
   ]
  },
  {
   "cell_type": "markdown",
   "metadata": {},
   "source": [
    "Тест 5: Тестирование поиска данных о событиях. (1_000_000 записей в таблице)"
   ]
  },
  {
   "cell_type": "code",
   "execution_count": 7,
   "metadata": {},
   "outputs": [
    {
     "name": "stdout",
     "output_type": "stream",
     "text": [
      "{'movie_id': '4796fe00-fe9c-4def-a471-a9a4d448b60d', 'likes': ['b813f2d6-013a-457e-a0c5-9b4b63c5ef63', 'f8275d8f-d957-41a7-b585-024de21ebfdb', '98dee99f-030f-4e02-80d6-72923ad24d4e', '79d4d97d-1cc1-43a5-abf3-f1b4859fa957', '4b090a3d-075d-49c4-b8f4-db4689478240', '253c3e82-3ea1-487f-9bbb-e48ede6962f8', '349df154-8b5a-45d0-8200-201224879231', '044721a4-cb13-4847-9f1b-3c09f849ee8d', '8f2af408-8c35-4d64-bfcb-1745ead84d78', 'd18cd6ca-f225-484a-8caf-4c536158c1fd', '1b675afc-a57a-4f11-b230-d1c300425f1d', '581dca84-49bf-48f5-9308-2771bb2ed29e', 'b2dca8d6-24ce-4fcb-a174-31b423003fd4', '9c0d70d3-53a3-428b-b1de-84fc0218bd69', '2b73054f-abbd-4287-a612-bca208e4168f', 'b3caab93-a9dc-4416-8f6b-4958e0a050b7', 'b0b31d17-1168-428c-8d3d-c9faf4a54b13', 'abadbe67-fe3c-4cdf-9f57-098aa359dc1f', '3a7eff32-4d6f-48b6-b15d-d0304d046ed7', 'e1c05a21-1658-4ef1-9897-c9b42a303df7', '35228179-7753-4d67-8e55-951b01b8b097', 'f5c378a6-2a8e-4beb-b99c-e4b08c6c1453', '90a22a47-2417-4b7d-ab83-055bd373ae90', 'abd4092d-4a58-478d-b539-3a3a83ad68a0', '24a6e39d-7353-41aa-a3e8-82d4568cf7ba', 'a7098836-5f9d-43c3-9565-80d811e318ca', '3baf7b33-cbac-4464-8858-7a7a12540256', '8086e6bc-7ab4-445c-902d-b0742a34edbe', 'd7f087fa-6acc-432e-afc0-bc3a59a59cbe', '1ea50c63-7da5-47c5-b3ba-2674393b387d', '241beff0-d776-4039-83a4-5f847995cf8e', '59d46e67-073d-4219-90be-84a8fa1bb5a9', '35ab09ba-b8ea-4ecf-b7a2-c055c9447657', 'b75eb82e-1641-4362-aa81-bc00ca5fe6bd', '73c93d83-c19f-47af-8a94-8c2fdf973667', '9c634d3f-10bd-466f-9f58-f95854272c59', '185fa11e-55eb-40c7-9ff6-96f23d7eaf26', '585de5a3-8d9f-42df-b516-6926238c1782', 'ede4975b-3d10-445a-a031-ddc96ee6ae5c', 'a8012ab4-6f9e-4860-b015-8a3fab6241c1', 'a581c37f-e7cb-4fb5-93df-40dafece6fbe', '85d75ad0-fddc-4c39-83fe-72186e5156aa', '50d5d233-86fd-467c-9c71-c3aa7bd443b0', '7bf099cf-f2e8-4e44-9b8e-cc1a107ca08c', '55a17db4-df45-4920-85cc-c15b3e6a3cac', '345d2e84-217f-4f9d-98d0-3218c85d755b', '8cb50b5b-ddf6-43df-802f-edf4772d6243', '39ea50ff-cd79-4102-880a-55612da93a3c', 'ba187287-0b6f-4bd0-96f4-80cee628d2a2', '08b11b94-ec3a-4c91-a10f-2fa5050c4611', '09005d15-79e2-4a1c-bf56-551f233c443b', '8073cc68-0019-4372-a364-e69040d282ff', 'e4d7dc7c-5436-4815-8fee-d1e67dee0717', 'da1ec2c5-458d-410f-afda-80862a045fec', '22b67ac0-2e25-42c7-9785-3ae37971de28', '76e28614-c99e-47de-b3d1-1ac821eb86b1', 'df4c09b2-9db3-4fc1-aa96-891a3bb96fb0', 'f5fe4f51-396e-4e09-bc02-8169f6d1e03e', '7efed282-a94e-41a0-9e25-c5b9172dfd40', 'dc74893e-c2e8-4bc0-a220-ab54da6ea208', 'db34bad6-ec6f-4404-9e40-cf2b409dba42', '428c88c6-359b-4c48-b550-65b0283fc905', '15d838b2-2b1b-4bb6-9697-f95fe52061c7', '3af72eab-dead-4f89-9b61-00e733b4243a', 'c6100206-6f35-456d-b4f1-00b41a7e1348', 'b0e7b494-4d9b-47bf-88b7-b0bd2e0a6b0d', '41a69700-d014-4bc3-aafb-9d2e1100a025', '6fe80ae7-66fc-4472-a7f0-5d7fdd3004b1', 'dd7f5c58-d4be-401b-bb55-6daed14c96c0', '8f092fcd-1744-464f-a783-d9a6c4ec59d5', 'f093340c-d776-4249-baa6-0d59fbecfaad', '58415d27-2a5e-40fc-a8e5-0213f357fc54', '378fd24c-33ed-430b-8fed-1547f6717ea8', '5da55e02-e760-4687-a07a-e440d1ec5552', 'a8d3b9d9-dbb3-48d6-a561-3cb71fc9182a', '47c115b9-1356-4806-8143-e6606b666b20', '66301798-9114-43a2-b42f-32129a585cac', 'a5019b78-6dcd-46f8-872e-a1273642411d', '8aa77ed2-30ff-44f2-820c-6426df08dee7', '09518b46-3e1f-4e1b-966f-3bf478a6fe17', '3cb2cc5c-b006-446c-82ec-ce98ba4207af', '75ffa2ec-a473-4613-9831-37eeec8e2b8b', 'cdb0037a-ecf1-4fdd-93e8-cd844799179d', 'ea3f9ceb-d61b-4f23-983a-e32a576abed8', '48695fdb-fa2a-4fb6-80a2-faf3272afc29', '8e31d9ac-70ec-45ad-8c43-3b198d7f1037', 'eb353a2b-c49c-4637-9353-2954e51b9dc1', '09e363cf-c401-4ffc-b492-567229bfc59a', '3d8a1f63-c886-4ef3-b0ae-111f01aca6ae', 'b85c980f-ab54-489a-8160-4333e90162bf', '6a19bca7-72ea-433e-9531-8d77058585c2', 'dcaf8556-8aba-4811-8ec8-365982b30b8c', '5615de1b-ef82-403d-982b-9c0500b44d9f', '62637940-50c4-4f47-b4de-6cb8a44822dd', '0d0f94ab-ae16-4190-a8b8-18eb0c4a737a', '694789b7-8bb3-49f3-9138-8b06c3d6b07f', 'fd052f38-5c39-4860-9c54-bd2defbd08f5', '9e0f9b21-85fb-4129-b2e1-d07ca9191374', '135a7309-a466-4202-8722-16cc0e8f9e9a', '916c41ed-01fe-4ed2-9d35-2db799b6a315', '2687c8fd-7519-4e82-be85-302ab268cf51', '455fcb86-74fa-4a50-9be4-77f0e825897e', '493c833b-fd0f-4a08-afec-71019abb8caa', 'c9a420f7-7f85-45c5-b3ce-258f47777ee5', '3e52929b-ed61-44a9-a2ae-5e7a934409b1', '13a03faf-d5ad-493a-b9e7-e4d90cfa64d5', '7b5c756b-d0e4-47fe-8ad1-49caba9eaeba', 'f40e9bf5-3507-41c8-9fa7-6852cb5de5b8', 'b4d5f81e-46b3-458e-9941-b80de7749e7e', 'dc38a682-506b-4cb1-bbb5-93083502c58f', '2812dc73-b5d4-44eb-95a6-4db4065d41fb', 'd3ffa439-6fe3-4df0-9be3-061367e177ce', 'e0c62769-01c4-4999-9fa6-44eac2b78f0e', 'b0642a8e-7940-45cd-b252-6cb0ba9472ed'], 'dislikes': ['57a3f87e-6c59-4dc9-84d6-e1f89578d4d6', 'fd623e53-c9d3-4a77-a662-5f3be90d97d2', '382fe818-cda8-4652-9867-6874a9ad2239', 'e6fe8cd6-d6cc-442f-8500-c734fd5672bc', '56a0af24-857c-4ecf-8d4c-40ab9408020a', '55286abf-c666-4a17-b999-4ca9025bc3b1', 'c56c51af-468d-47de-97de-0372f22affcc', '5f5dbba9-0c07-453f-9774-1b689b7d5239', '752fdcfb-00b4-480e-9f80-c4712c05c2bc', '7e748e5a-e0da-4cac-85d2-6266fb7b02f4', '64004388-3bcb-4615-9234-a2eac9cd3160', 'bafb14d5-4fdb-441a-a97a-0244eced83a0', 'ba7cbc95-62c7-46ce-9c36-560873d2b38d', '72a77ab6-6470-46e0-be97-24fd428ceb99', '40b1088d-55d7-4a06-b2ab-b4fefa944acb', '25f235d6-77e1-4039-99d3-f2a156ff732f', 'e5cea2a7-ecba-4c75-8a9c-48b6746b3fd6', 'd2baeee4-f5c1-4e93-846a-c50b1443aa40', '0c8f1b55-3968-4d47-8a03-d769344d84da', '3aa99576-2568-4934-a4cc-a575c858a16d', '8e8cdc12-2846-4699-8840-4655edd09b89', '930362d4-3033-403c-905e-97960b278f51', '0eb8db48-58af-4790-a056-dfdb215770bc', '7e278021-f318-41c3-be88-0861ad710ec9', 'ba224d8d-aa7e-4f88-8856-da15fd969521', '37c5569c-0036-4bdf-a161-e7ab154b616e', '6f5e12d7-ae3d-4565-9d29-b1d634005029', 'cc4d4fcc-b29c-460a-9ddd-531485fa1266', '3c3d0661-12bb-40ee-a237-84e68e3efa12', '761d2876-111e-402f-96d7-e87b7ee285a5', '443aa00f-2472-4149-91a8-78f2aabc1413', 'e5156e1e-52d8-4a5e-8dbb-488e53c894b7', 'f55dd3fe-8df6-4593-9e8f-e5cc6579f92c', 'b6b40209-a45a-4363-af18-2624849438b9', 'df0b97b3-d4ac-4773-832f-cf6c574d3806', '29c5bfd0-4b13-404b-bcce-7aa42e1e168d', '264bf203-ae34-410a-97d3-d12a5c151f3f', '1b12ebe4-9a63-4677-90b9-660f2ec6f2c3', '81de199f-5bae-4824-8022-c6a17720d21b', 'f8d661ca-8517-4ca1-ad93-f378a5591ab6', '40cdfe36-262d-45f3-9863-fe56d59caa91', '49d3e1a3-4110-45ab-81b0-3fd206e9fca6', 'b72b65de-7bf1-4ff1-9c3c-d643517dc4c0', '3c19bd3a-601e-4f5e-b513-ea3403007499', 'b338b1c9-d399-48e2-8c5d-0fb028f26c48', 'c307b752-943e-4711-94f2-842685e5f9dd', '3fb409f4-58c7-4393-9322-2c1c8682c958', 'f64cb9ad-f00b-4696-af1c-bcfb6cf4a3d0', '08c4e5fe-3d65-4fee-b72e-88ccd4259db3', 'd339f3e1-304b-4a8a-8b27-236b619ab970', 'e9db5d97-9beb-4433-9fe4-c3ee02e5e0ab', 'ba798433-6c6f-4c59-b613-abe7cef7c367', '9ad5379a-974c-4eaf-a3d6-82a9441dd74b', '4fdf9452-7ee0-4c7e-a803-070bcacc368f', '1c5070c5-10c8-476a-97af-d91a10fb54a8', 'f14f2636-d319-408d-ac4f-a5e5a5768a25', 'f64c09f3-ba61-4c37-aff3-b0aaee7472f2', 'b92943d2-2030-449b-8cc9-00fb26c73428', '678d3957-b196-46b4-b8ca-18da977d4964', '92ecb0d3-7611-44c6-86ee-763c9740d892', '36c77d6c-ed04-4062-8046-bcad431ace82', 'bcdb0265-a132-49cf-8571-4a84f01c2752', '76a2070e-98aa-4366-8cba-639ad22af2fc', 'a820bd23-e1bf-4a93-aae7-820be4f6fb0c', '834b2036-86eb-47b6-92fa-7faa2a802bff', 'f6864bb9-6c02-4a3e-8d17-ddb0ade70fe1', '988b73d8-db1e-4398-a763-b4ea9e64cdcf', '2d23f28c-adb1-41d4-953d-df5c7ff5465b', '571b9e10-49b7-4d52-ba3c-b5fbeac36c82', 'b4ef9443-b54a-405d-8740-817166d2a4eb', '0e790cdf-7dfb-4ba4-8d49-dc0ca2c34296', '3eb97b17-c004-4313-8e4c-b60544f89e01', 'f6925f6f-e361-4757-83d0-ef808099f06d', 'd7393754-97f1-48d6-90c6-8e19c494f2de', 'dcfc47f9-ae6c-4c22-893c-821b6da86b3a', '9f85a93f-8d77-4876-adc9-d9f1eb5f926e', '1f2c6612-c52c-46de-aa1a-c0e8ca33644a', '0385177f-fda8-48a0-8890-917d2d6c2f33', 'bab00930-c657-4723-b9bb-bd3e7ba373c2', '6cfefb3f-eae6-40c0-8cd4-cc807f3f4a19', '2a3abb61-69d2-4e6e-bed2-3a46e6d27f10', '1f6bc393-bde9-489b-8c14-ad0925aa9924', '5e2f0ac5-61fd-4758-a2c9-84a5b1d9b0ed', 'ba3a157f-b8a4-4b2d-b538-b9ed5f5b97d8', '43683021-2d07-4cf4-8e36-01fb1a2195bf', 'd73478c6-4bb9-448d-ab76-495bc1638de6'], 'rating': 5.7, 'count': 200}\n",
      "========================================\n",
      "- Records: 1022422 items; \n",
      "- Benchmark: 0.030475139617919922 sec.\n"
     ]
    }
   ],
   "source": [
    "utils.test_select(client=ch_client, table_name=table_name, movie_id=movie_id)"
   ]
  },
  {
   "cell_type": "markdown",
   "metadata": {},
   "source": [
    "Тест 6: Тестирование обновления данных о событиях. (1_000_000 записей в таблице)"
   ]
  },
  {
   "cell_type": "code",
   "execution_count": 8,
   "metadata": {},
   "outputs": [
    {
     "name": "stdout",
     "output_type": "stream",
     "text": [
      "{'movie_id': '4796fe00-fe9c-4def-a471-a9a4d448b60d', 'likes': ['241beff0-d776-4039-83a4-5f847995cf8e', '59d46e67-073d-4219-90be-84a8fa1bb5a9', '35ab09ba-b8ea-4ecf-b7a2-c055c9447657', 'b75eb82e-1641-4362-aa81-bc00ca5fe6bd', '73c93d83-c19f-47af-8a94-8c2fdf973667', '9c634d3f-10bd-466f-9f58-f95854272c59', '185fa11e-55eb-40c7-9ff6-96f23d7eaf26', '585de5a3-8d9f-42df-b516-6926238c1782', 'ede4975b-3d10-445a-a031-ddc96ee6ae5c', 'a8012ab4-6f9e-4860-b015-8a3fab6241c1', 'a581c37f-e7cb-4fb5-93df-40dafece6fbe', '85d75ad0-fddc-4c39-83fe-72186e5156aa', '50d5d233-86fd-467c-9c71-c3aa7bd443b0', '7bf099cf-f2e8-4e44-9b8e-cc1a107ca08c', '55a17db4-df45-4920-85cc-c15b3e6a3cac', '345d2e84-217f-4f9d-98d0-3218c85d755b', '8cb50b5b-ddf6-43df-802f-edf4772d6243', '39ea50ff-cd79-4102-880a-55612da93a3c', 'ba187287-0b6f-4bd0-96f4-80cee628d2a2', '08b11b94-ec3a-4c91-a10f-2fa5050c4611', '09005d15-79e2-4a1c-bf56-551f233c443b', '8073cc68-0019-4372-a364-e69040d282ff', 'e4d7dc7c-5436-4815-8fee-d1e67dee0717', 'da1ec2c5-458d-410f-afda-80862a045fec', '22b67ac0-2e25-42c7-9785-3ae37971de28', '76e28614-c99e-47de-b3d1-1ac821eb86b1', 'df4c09b2-9db3-4fc1-aa96-891a3bb96fb0', 'f5fe4f51-396e-4e09-bc02-8169f6d1e03e', '7efed282-a94e-41a0-9e25-c5b9172dfd40', 'dc74893e-c2e8-4bc0-a220-ab54da6ea208', 'db34bad6-ec6f-4404-9e40-cf2b409dba42', '428c88c6-359b-4c48-b550-65b0283fc905', '15d838b2-2b1b-4bb6-9697-f95fe52061c7', '3af72eab-dead-4f89-9b61-00e733b4243a', 'c6100206-6f35-456d-b4f1-00b41a7e1348', 'b0e7b494-4d9b-47bf-88b7-b0bd2e0a6b0d', 'b813f2d6-013a-457e-a0c5-9b4b63c5ef63', 'f8275d8f-d957-41a7-b585-024de21ebfdb', '98dee99f-030f-4e02-80d6-72923ad24d4e', '79d4d97d-1cc1-43a5-abf3-f1b4859fa957', '4b090a3d-075d-49c4-b8f4-db4689478240', '253c3e82-3ea1-487f-9bbb-e48ede6962f8', '349df154-8b5a-45d0-8200-201224879231', '044721a4-cb13-4847-9f1b-3c09f849ee8d', '8f2af408-8c35-4d64-bfcb-1745ead84d78', 'd18cd6ca-f225-484a-8caf-4c536158c1fd', '1b675afc-a57a-4f11-b230-d1c300425f1d', '581dca84-49bf-48f5-9308-2771bb2ed29e', 'b2dca8d6-24ce-4fcb-a174-31b423003fd4', '9c0d70d3-53a3-428b-b1de-84fc0218bd69', '2b73054f-abbd-4287-a612-bca208e4168f', '0216a5f3-6d2d-4d51-970d-683269a5faca', 'ec35c586-73eb-467e-b567-9e93b27f9f46', 'd8808eda-11f2-474b-b0dd-136745548a4a', '0c1e2215-e1ca-40c6-83a4-3294d403ae3b', 'fb717f6a-73aa-44b5-aa55-c7116130df49', 'f2926f02-1903-40cd-addf-8f9c687dc3ba', '628bc3c5-1d81-420f-962c-f44da99004fa', 'cd5e71d5-f131-45aa-a78b-82411ed941cf', '9f39bdcb-44ac-48a8-90f6-75a1718f3b81', '1fb25ed1-38d8-4e9e-8b76-e566d496a006', '226c93e8-863a-4553-a445-4c2dc1af1591', '4a923cbd-5b32-429c-8df0-8081b2c4c506', 'de75febb-b835-43dc-ad52-aaabac34257a', '8c98e97e-60d2-4ece-8f6a-33c8127fa67e', '9c02f3cd-6897-4133-a3a6-0e785bb81a6d', '89cc7fe1-6923-4c74-a5ec-e3b64f01b88c', 'ee83d1ad-3547-4d5d-8eb0-c3527d15732a', '1e3e7b11-eded-4f07-b193-fb3aabf318cb', 'f64cd33c-d4b5-46f8-b709-56b54de8ccc0', '8e57e35a-6072-4292-9b09-de138dd22889', '60cac3bd-060b-429a-9be1-ca7b3a5919e4', '00da88fa-4a68-4993-a0aa-57e701b3dfb9', '9b4f52da-4e56-48a4-b345-7f570395a910', 'cbf09b48-47b5-4082-be07-85cb0028f348', '17258f41-4bea-4ea2-9423-09cd8078579b', '90c4cb7e-f649-40d6-a210-3efcc83ae19c', 'b3caab93-a9dc-4416-8f6b-4958e0a050b7', 'b0b31d17-1168-428c-8d3d-c9faf4a54b13', 'abadbe67-fe3c-4cdf-9f57-098aa359dc1f', '3a7eff32-4d6f-48b6-b15d-d0304d046ed7', 'e1c05a21-1658-4ef1-9897-c9b42a303df7', '35228179-7753-4d67-8e55-951b01b8b097', 'f5c378a6-2a8e-4beb-b99c-e4b08c6c1453', '90a22a47-2417-4b7d-ab83-055bd373ae90', 'abd4092d-4a58-478d-b539-3a3a83ad68a0', '24a6e39d-7353-41aa-a3e8-82d4568cf7ba', 'a7098836-5f9d-43c3-9565-80d811e318ca', '3baf7b33-cbac-4464-8858-7a7a12540256', '8086e6bc-7ab4-445c-902d-b0742a34edbe', 'd7f087fa-6acc-432e-afc0-bc3a59a59cbe', '1ea50c63-7da5-47c5-b3ba-2674393b387d', '8e7d7b5f-8415-4423-8a8d-04698c7f124a', '8ef29f04-1d6d-4514-b379-fa3312ec0b5e', 'a2a756b9-f593-44d4-a1ca-6240ebd0df99', '44e43bf3-3c95-46eb-a769-e232f0f3cf3d', '1c699e12-c65e-4068-97c3-f33a74114611', 'bdb87de5-84d4-432a-96f6-da61a46f7053', 'af1c7c9b-b18e-4d8f-ad98-1e44e8c09be0', 'af39fced-4174-4760-92c8-970cea38212e', '66ad6777-5b25-4c65-8074-af2e969a10dd', 'a410f476-5931-4e29-9808-c4d7daa1364a', 'f325fbac-05c7-435e-9617-a6e1f9d4672b', '6ce3fd29-3936-4aa6-b7a3-1a790dc464cc', 'ff114e23-1cf3-4f5a-8d22-017327d3ba18', 'e6c690e9-49ae-443b-881c-b47c22b3b309', 'bdbf37c0-bec9-4f05-bbdb-e22b31870dcd', 'c7fd1b37-555f-48d2-b8d1-369bf335d899', 'fabc3594-ad7a-494c-9285-1a8ae51d04c5', '1f5d8404-6055-44cb-9ea8-c841a59525a6', '49c0ef6e-0f14-413b-9598-1bd27d5c0322', '340af83d-046d-4868-b130-552995912af4', '6ebf2861-2943-4fa9-84f8-1c07b29c32e4', '634cd4c9-3ce8-47aa-b014-3e268f70f091', '3d14767c-beb7-47f4-9899-7daf5acb9e63', '5620b6ec-f5e4-45bb-9902-049b9f9a7426', '8b536692-f6d6-4b52-af57-160fbb505684', '7b0acc3d-2c5e-4555-8e59-426d3ee32b87', '41a69700-d014-4bc3-aafb-9d2e1100a025', '6fe80ae7-66fc-4472-a7f0-5d7fdd3004b1', 'dd7f5c58-d4be-401b-bb55-6daed14c96c0', '8f092fcd-1744-464f-a783-d9a6c4ec59d5', 'f093340c-d776-4249-baa6-0d59fbecfaad', '58415d27-2a5e-40fc-a8e5-0213f357fc54', '378fd24c-33ed-430b-8fed-1547f6717ea8', '5da55e02-e760-4687-a07a-e440d1ec5552', 'a8d3b9d9-dbb3-48d6-a561-3cb71fc9182a', '47c115b9-1356-4806-8143-e6606b666b20', '66301798-9114-43a2-b42f-32129a585cac', 'a5019b78-6dcd-46f8-872e-a1273642411d', '8aa77ed2-30ff-44f2-820c-6426df08dee7', '09518b46-3e1f-4e1b-966f-3bf478a6fe17', '3cb2cc5c-b006-446c-82ec-ce98ba4207af', '75ffa2ec-a473-4613-9831-37eeec8e2b8b', 'cdb0037a-ecf1-4fdd-93e8-cd844799179d', 'ea3f9ceb-d61b-4f23-983a-e32a576abed8', '48695fdb-fa2a-4fb6-80a2-faf3272afc29', '8e31d9ac-70ec-45ad-8c43-3b198d7f1037', 'eb353a2b-c49c-4637-9353-2954e51b9dc1', '09e363cf-c401-4ffc-b492-567229bfc59a', '3d8a1f63-c886-4ef3-b0ae-111f01aca6ae', 'b85c980f-ab54-489a-8160-4333e90162bf', '6a19bca7-72ea-433e-9531-8d77058585c2', 'dcaf8556-8aba-4811-8ec8-365982b30b8c', '5615de1b-ef82-403d-982b-9c0500b44d9f', '62637940-50c4-4f47-b4de-6cb8a44822dd', '0d0f94ab-ae16-4190-a8b8-18eb0c4a737a', '694789b7-8bb3-49f3-9138-8b06c3d6b07f', 'fd052f38-5c39-4860-9c54-bd2defbd08f5', '9e0f9b21-85fb-4129-b2e1-d07ca9191374', '135a7309-a466-4202-8722-16cc0e8f9e9a', '916c41ed-01fe-4ed2-9d35-2db799b6a315', '2687c8fd-7519-4e82-be85-302ab268cf51', '455fcb86-74fa-4a50-9be4-77f0e825897e', '493c833b-fd0f-4a08-afec-71019abb8caa', 'c9a420f7-7f85-45c5-b3ce-258f47777ee5', '3e52929b-ed61-44a9-a2ae-5e7a934409b1', '13a03faf-d5ad-493a-b9e7-e4d90cfa64d5', '7b5c756b-d0e4-47fe-8ad1-49caba9eaeba', 'f40e9bf5-3507-41c8-9fa7-6852cb5de5b8', 'b4d5f81e-46b3-458e-9941-b80de7749e7e', 'dc38a682-506b-4cb1-bbb5-93083502c58f', '2812dc73-b5d4-44eb-95a6-4db4065d41fb', 'd3ffa439-6fe3-4df0-9be3-061367e177ce', 'e0c62769-01c4-4999-9fa6-44eac2b78f0e', 'b0642a8e-7940-45cd-b252-6cb0ba9472ed', '1f9cebda-3d3e-4e67-ad6e-69addc06f82e', 'bf3183ab-ab19-4f6f-8a60-957eb193d79c', '53ab7531-a016-4ce8-9999-38244f3816d1', '7186d1d2-575d-470e-abea-a001e4a30f46', 'b0c99a91-87e3-4438-b4bd-82f9040924dd', '263dd95e-8732-4375-8213-267399fd5d68', '6a6a54c1-e84d-46fb-bf94-d10c3b003fc3', 'dc4cc941-e9b1-46a4-a749-fb8ff0d1a177', '872b43ab-5394-4e8a-a4aa-8f8cb28d6691', '2ffffecd-569c-4ce4-b02f-42a3e1e6ad7c', '2a0df322-e6ff-4cc2-a302-cfd38fc0bfc5', '1fbaa6b5-d3c0-4f35-b020-ae8397bdee70'], 'dislikes': ['3c3d0661-12bb-40ee-a237-84e68e3efa12', '761d2876-111e-402f-96d7-e87b7ee285a5', '443aa00f-2472-4149-91a8-78f2aabc1413', 'e5156e1e-52d8-4a5e-8dbb-488e53c894b7', 'f55dd3fe-8df6-4593-9e8f-e5cc6579f92c', 'b6b40209-a45a-4363-af18-2624849438b9', 'df0b97b3-d4ac-4773-832f-cf6c574d3806', '29c5bfd0-4b13-404b-bcce-7aa42e1e168d', '264bf203-ae34-410a-97d3-d12a5c151f3f', '1b12ebe4-9a63-4677-90b9-660f2ec6f2c3', '81de199f-5bae-4824-8022-c6a17720d21b', 'f8d661ca-8517-4ca1-ad93-f378a5591ab6', '40cdfe36-262d-45f3-9863-fe56d59caa91', '49d3e1a3-4110-45ab-81b0-3fd206e9fca6', 'b72b65de-7bf1-4ff1-9c3c-d643517dc4c0', '3c19bd3a-601e-4f5e-b513-ea3403007499', 'b338b1c9-d399-48e2-8c5d-0fb028f26c48', 'c307b752-943e-4711-94f2-842685e5f9dd', '3fb409f4-58c7-4393-9322-2c1c8682c958', 'f64cb9ad-f00b-4696-af1c-bcfb6cf4a3d0', '08c4e5fe-3d65-4fee-b72e-88ccd4259db3', 'd339f3e1-304b-4a8a-8b27-236b619ab970', 'e9db5d97-9beb-4433-9fe4-c3ee02e5e0ab', 'ba798433-6c6f-4c59-b613-abe7cef7c367', '9ad5379a-974c-4eaf-a3d6-82a9441dd74b', '57a3f87e-6c59-4dc9-84d6-e1f89578d4d6', 'fd623e53-c9d3-4a77-a662-5f3be90d97d2', '382fe818-cda8-4652-9867-6874a9ad2239', 'e6fe8cd6-d6cc-442f-8500-c734fd5672bc', '56a0af24-857c-4ecf-8d4c-40ab9408020a', '55286abf-c666-4a17-b999-4ca9025bc3b1', 'c56c51af-468d-47de-97de-0372f22affcc', '5f5dbba9-0c07-453f-9774-1b689b7d5239', '752fdcfb-00b4-480e-9f80-c4712c05c2bc', '7e748e5a-e0da-4cac-85d2-6266fb7b02f4', '64004388-3bcb-4615-9234-a2eac9cd3160', 'bafb14d5-4fdb-441a-a97a-0244eced83a0', 'ba7cbc95-62c7-46ce-9c36-560873d2b38d', '72a77ab6-6470-46e0-be97-24fd428ceb99', '40b1088d-55d7-4a06-b2ab-b4fefa944acb', '44b28044-867a-4837-80c5-ebab329a19e4', 'd1ea1bc0-7d5a-4013-a239-439614913a3a', 'eaff8601-db96-46e2-b990-f3b598f4e2e5', '5d5df25c-d21a-4286-b500-86ca2e15cc1a', '0c60c839-081f-4bc1-ada9-3d7d22af07e7', '829577de-a2e4-47a2-905d-fe52d66b764d', '870adc71-1022-4a5a-b3b1-3c9408caf5ca', '366b9289-aae3-4bcd-9509-9b80a7b6fe5a', '199d7893-d279-42a8-926e-0c7377231024', '662f0351-a32a-4346-b9dc-d5e09a066532', '7ccf2365-068f-44d8-8666-c9993c58e31c', '9da4c0bd-9a6b-487f-b8dd-e7221c25297a', 'da2c49ed-07a6-4c64-a2bd-13c6cf3fde1c', '25f235d6-77e1-4039-99d3-f2a156ff732f', 'e5cea2a7-ecba-4c75-8a9c-48b6746b3fd6', 'd2baeee4-f5c1-4e93-846a-c50b1443aa40', '0c8f1b55-3968-4d47-8a03-d769344d84da', '3aa99576-2568-4934-a4cc-a575c858a16d', '8e8cdc12-2846-4699-8840-4655edd09b89', '930362d4-3033-403c-905e-97960b278f51', '0eb8db48-58af-4790-a056-dfdb215770bc', '7e278021-f318-41c3-be88-0861ad710ec9', 'ba224d8d-aa7e-4f88-8856-da15fd969521', '37c5569c-0036-4bdf-a161-e7ab154b616e', '6f5e12d7-ae3d-4565-9d29-b1d634005029', 'cc4d4fcc-b29c-460a-9ddd-531485fa1266', '41543bca-afee-442c-826a-b9f777be3d3c', '7dc3dbc2-334e-4201-b598-7fe753b31b41', '7db7bf68-4e5e-4896-97b7-5518f0832ac6', '73d4fc55-0c08-4ff2-9fae-5e90af8729ba', '1648b7a0-0484-4302-a96d-bdcbd0036d6f', '76b91919-fd60-4dff-8c15-5e81af659e17', '7ed5afd8-68c0-422e-989b-1c572baef00f', 'ad70271e-f932-4a51-bfd4-f4504247d4a2', 'bf594611-6679-4a07-a850-2465ecd5a904', 'c3506b26-a1c8-4adb-9bea-0adb6c63c08b', 'f7dd0900-a321-4a38-b0a3-6d0a0d63640e', '4fdf9452-7ee0-4c7e-a803-070bcacc368f', '1c5070c5-10c8-476a-97af-d91a10fb54a8', 'f14f2636-d319-408d-ac4f-a5e5a5768a25', 'f64c09f3-ba61-4c37-aff3-b0aaee7472f2', 'b92943d2-2030-449b-8cc9-00fb26c73428', '678d3957-b196-46b4-b8ca-18da977d4964', '92ecb0d3-7611-44c6-86ee-763c9740d892', '36c77d6c-ed04-4062-8046-bcad431ace82', 'bcdb0265-a132-49cf-8571-4a84f01c2752', '76a2070e-98aa-4366-8cba-639ad22af2fc', 'a820bd23-e1bf-4a93-aae7-820be4f6fb0c', '834b2036-86eb-47b6-92fa-7faa2a802bff', 'f6864bb9-6c02-4a3e-8d17-ddb0ade70fe1', '988b73d8-db1e-4398-a763-b4ea9e64cdcf', '2d23f28c-adb1-41d4-953d-df5c7ff5465b', '571b9e10-49b7-4d52-ba3c-b5fbeac36c82', 'b4ef9443-b54a-405d-8740-817166d2a4eb', '0e790cdf-7dfb-4ba4-8d49-dc0ca2c34296', '3eb97b17-c004-4313-8e4c-b60544f89e01', 'f6925f6f-e361-4757-83d0-ef808099f06d', 'd7393754-97f1-48d6-90c6-8e19c494f2de', 'dcfc47f9-ae6c-4c22-893c-821b6da86b3a', '9f85a93f-8d77-4876-adc9-d9f1eb5f926e', '1f2c6612-c52c-46de-aa1a-c0e8ca33644a', '0385177f-fda8-48a0-8890-917d2d6c2f33', 'bab00930-c657-4723-b9bb-bd3e7ba373c2', '6cfefb3f-eae6-40c0-8cd4-cc807f3f4a19', '2a3abb61-69d2-4e6e-bed2-3a46e6d27f10', '1f6bc393-bde9-489b-8c14-ad0925aa9924', '5e2f0ac5-61fd-4758-a2c9-84a5b1d9b0ed', 'ba3a157f-b8a4-4b2d-b538-b9ed5f5b97d8', '43683021-2d07-4cf4-8e36-01fb1a2195bf', 'd73478c6-4bb9-448d-ab76-495bc1638de6', 'd435689c-f012-46fa-8a4f-1494334bd295', '40a618cd-9de3-4575-b68a-06f8446f7298', '0cb6d4b3-24ff-411e-bb32-a28c5cf2f762', '75ea32f8-796d-47b8-a729-d8c17faa4132', '97acee7d-e6bf-465a-b77b-472fad39a906', 'afbf3d80-47cb-48b0-a840-e294007146b3', '32cf4de9-ff21-46ed-afe5-2552ebad7bc0', '73983c2c-72b6-4897-9852-2d7146d1334e', '88600827-25c3-4ed7-a181-cb3ffe794e0a', 'ef13233d-fd8c-431e-b288-8ddefa4af745', 'f03706eb-5b71-436f-bb88-2a3732f4ae84', 'a09d5140-0096-4769-b56f-4b95f83f9244'], 'rating': 5.933333333333334, 'count': 300}\n",
      "========================================\n",
      "- Records: 1022522 items; \n",
      "- Benchmark: 0.328732967376709 sec.\n"
     ]
    }
   ],
   "source": [
    "# utils.test_insert_batch(client=ch_client, table_name=table_name)\n",
    "utils.test_select(client=ch_client, table_name=table_name, movie_id=movie_id, is_update=True)"
   ]
  }
 ],
 "metadata": {
  "kernelspec": {
   "display_name": "Python 3.10.0 64-bit",
   "language": "python",
   "name": "python3"
  },
  "language_info": {
   "codemirror_mode": {
    "name": "ipython",
    "version": 3
   },
   "file_extension": ".py",
   "mimetype": "text/x-python",
   "name": "python",
   "nbconvert_exporter": "python",
   "pygments_lexer": "ipython3",
   "version": "3.10.0"
  },
  "orig_nbformat": 4,
  "vscode": {
   "interpreter": {
    "hash": "aee8b7b246df8f9039afb4144a1f6fd8d2ca17a180786b69acc140d282b71a49"
   }
  }
 },
 "nbformat": 4,
 "nbformat_minor": 2
}
