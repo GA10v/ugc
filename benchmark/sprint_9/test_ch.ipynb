{
 "cells": [
  {
   "cell_type": "code",
   "execution_count": 1,
   "metadata": {},
   "outputs": [],
   "source": [
    "from utils.settings import settings\n",
    "from clickhouse.clickhouse import CHStorage\n",
    "from utils.base_benchmark import BaseBenchmark"
   ]
  },
  {
   "cell_type": "code",
   "execution_count": 2,
   "metadata": {},
   "outputs": [],
   "source": [
    "storage = CHStorage(host=settings.clickhouse.HOST)\n",
    "benchmark = BaseBenchmark(storage)\n",
    "table_name = settings.test_data.TABLE\n",
    "\n",
    "storage.create_distributed_table(table_name=table_name)"
   ]
  },
  {
   "cell_type": "markdown",
   "metadata": {},
   "source": [
    "Tecт 1: Тестирование вставки данных о событиях с разным размером батча. (нет записей в таблице)"
   ]
  },
  {
   "cell_type": "code",
   "execution_count": 3,
   "metadata": {},
   "outputs": [
    {
     "name": "stdout",
     "output_type": "stream",
     "text": [
      "========================================\n",
      "- Batch size: 1 items;\n",
      "Загрузка батчами выполнена за 0.01766\n",
      "========================================\n",
      "- Batch size: 10 items;\n",
      "Загрузка батчами выполнена за 0.01685\n",
      "========================================\n",
      "- Batch size: 100 items;\n",
      "Загрузка батчами выполнена за 0.02217\n",
      "========================================\n",
      "- Batch size: 1000 items;\n",
      "Загрузка батчами выполнена за 0.22511\n",
      "========================================\n",
      "- Batch size: 10000 items;\n",
      "Загрузка батчами выполнена за 0.74639\n"
     ]
    }
   ],
   "source": [
    "benchmark.test_insert(1)\n",
    "benchmark.test_insert(10)\n",
    "benchmark.test_insert(100)\n",
    "benchmark.test_insert(1000)\n",
    "benchmark.test_insert(10000)\n"
   ]
  },
  {
   "cell_type": "markdown",
   "metadata": {},
   "source": [
    "Tecт 2: Тестирование поиска данных о событиях. (< 15_000 записей в таблице)"
   ]
  },
  {
   "cell_type": "code",
   "execution_count": 4,
   "metadata": {},
   "outputs": [],
   "source": [
    "benchmark.insert_searchable_data()"
   ]
  },
  {
   "cell_type": "code",
   "execution_count": 5,
   "metadata": {},
   "outputs": [
    {
     "name": "stdout",
     "output_type": "stream",
     "text": [
      "Поиск фильма выполнена за 0.06883\n"
     ]
    }
   ],
   "source": [
    "benchmark.test_select(storage)"
   ]
  },
  {
   "cell_type": "markdown",
   "metadata": {},
   "source": [
    "Tecт 3: Тестирование вставки батча в 1_000_000 записей. (< 15_000 записей в таблице)."
   ]
  },
  {
   "cell_type": "code",
   "execution_count": 6,
   "metadata": {},
   "outputs": [
    {
     "name": "stdout",
     "output_type": "stream",
     "text": [
      "========================================\n",
      "- Batch size: 1000000 items;\n",
      "Загрузка батчами выполнена за 62.8587\n"
     ]
    }
   ],
   "source": [
    "benchmark.test_insert(1000000)"
   ]
  },
  {
   "cell_type": "markdown",
   "metadata": {},
   "source": [
    "Tecт 4: Тестирование вставки данных о событиях с разным размером батча. (1_000_000 записей в таблице)."
   ]
  },
  {
   "cell_type": "code",
   "execution_count": 7,
   "metadata": {},
   "outputs": [
    {
     "name": "stdout",
     "output_type": "stream",
     "text": [
      "========================================\n",
      "- Batch size: 1 items;\n",
      "Загрузка батчами выполнена за 0.01103\n",
      "========================================\n",
      "- Batch size: 10 items;\n",
      "Загрузка батчами выполнена за 0.00833\n",
      "========================================\n",
      "- Batch size: 100 items;\n",
      "Загрузка батчами выполнена за 0.01505\n",
      "========================================\n",
      "- Batch size: 1000 items;\n",
      "Загрузка батчами выполнена за 0.11646\n",
      "========================================\n",
      "- Batch size: 10000 items;\n",
      "Загрузка батчами выполнена за 0.75701\n"
     ]
    }
   ],
   "source": [
    "benchmark.test_insert(1)\n",
    "benchmark.test_insert(10)\n",
    "benchmark.test_insert(100)\n",
    "benchmark.test_insert(1000)\n",
    "benchmark.test_insert(10000)\n"
   ]
  },
  {
   "cell_type": "markdown",
   "metadata": {},
   "source": [
    "Тест 5: Тестирование поиска данных о событиях. (1_000_000 записей в таблице)"
   ]
  },
  {
   "cell_type": "code",
   "execution_count": 8,
   "metadata": {},
   "outputs": [
    {
     "name": "stdout",
     "output_type": "stream",
     "text": [
      "Поиск фильма выполнена за 0.55199\n"
     ]
    }
   ],
   "source": [
    "benchmark.test_select(storage)"
   ]
  },
  {
   "cell_type": "markdown",
   "metadata": {},
   "source": [
    "Тест 6: Тестирование обновления данных о событиях. (1_000_000 записей в таблице)"
   ]
  },
  {
   "cell_type": "code",
   "execution_count": 9,
   "metadata": {},
   "outputs": [
    {
     "name": "stdout",
     "output_type": "stream",
     "text": [
      "Тест обновления выполнена за 0.16358\n"
     ]
    }
   ],
   "source": [
    "benchmark.test_select_with_update(storage)"
   ]
  }
 ],
 "metadata": {
  "kernelspec": {
   "display_name": "Python 3.10.0 64-bit",
   "language": "python",
   "name": "python3"
  },
  "language_info": {
   "codemirror_mode": {
    "name": "ipython",
    "version": 3
   },
   "file_extension": ".py",
   "mimetype": "text/x-python",
   "name": "python",
   "nbconvert_exporter": "python",
   "pygments_lexer": "ipython3",
   "version": "3.10.0"
  },
  "orig_nbformat": 4,
  "vscode": {
   "interpreter": {
    "hash": "aee8b7b246df8f9039afb4144a1f6fd8d2ca17a180786b69acc140d282b71a49"
   }
  }
 },
 "nbformat": 4,
 "nbformat_minor": 2
}
