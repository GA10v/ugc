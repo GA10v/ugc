{
 "cells": [
  {
   "cell_type": "code",
   "execution_count": 2,
   "metadata": {},
   "outputs": [],
   "source": [
    "from utils.settings import settings\n",
    "from clickhouse.clickhouse import CHStorage\n",
    "from utils.base_benchmark import BaseBenchmark"
   ]
  },
  {
   "cell_type": "code",
   "execution_count": 3,
   "metadata": {},
   "outputs": [],
   "source": [
    "storage = CHStorage(host=settings.clickhouse.HOST)\n",
    "benchmark = BaseBenchmark(storage)\n",
    "table_name = settings.test_data.TABLE\n",
    "\n",
    "storage.create_distributed_table(table_name=table_name)"
   ]
  },
  {
   "cell_type": "markdown",
   "metadata": {},
   "source": [
    "Tecт 1: Тестирование вставки данных о событиях с разным размером батча. (нет записей в таблице)"
   ]
  },
  {
   "cell_type": "code",
   "execution_count": 4,
   "metadata": {},
   "outputs": [
    {
     "name": "stdout",
     "output_type": "stream",
     "text": [
      "Загрузка батчами выполнена за 0.03165\n",
      "Загрузка батчами выполнена за 0.01408\n",
      "Загрузка батчами выполнена за 0.02075\n",
      "Загрузка батчами выполнена за 0.16245\n",
      "Загрузка батчами выполнена за 0.79424\n"
     ]
    }
   ],
   "source": [
    "benchmark.test_insert(1)\n",
    "benchmark.test_insert(10)\n",
    "benchmark.test_insert(100)\n",
    "benchmark.test_insert(1000)\n",
    "benchmark.test_insert(10000)\n"
   ]
  },
  {
   "cell_type": "markdown",
   "metadata": {},
   "source": [
    "Tecт 2: Тестирование поиска данных о событиях. (< 15_000 записей в таблице)"
   ]
  },
  {
   "cell_type": "code",
   "execution_count": 5,
   "metadata": {},
   "outputs": [],
   "source": [
    "benchmark.insert_searchable_data()"
   ]
  },
  {
   "cell_type": "code",
   "execution_count": 6,
   "metadata": {},
   "outputs": [
    {
     "name": "stdout",
     "output_type": "stream",
     "text": [
      "Поиск фильма выполнена за 0.04582\n"
     ]
    }
   ],
   "source": [
    "benchmark.test_select(storage)"
   ]
  },
  {
   "cell_type": "markdown",
   "metadata": {},
   "source": [
    "Tecт 3: Тестирование вставки батча в 1_000_000 записей. (< 15_000 записей в таблице)."
   ]
  },
  {
   "cell_type": "code",
   "execution_count": 7,
   "metadata": {},
   "outputs": [
    {
     "name": "stdout",
     "output_type": "stream",
     "text": [
      "Загрузка батчами выполнена за 64.17686\n"
     ]
    }
   ],
   "source": [
    "benchmark.test_insert(1000000)"
   ]
  },
  {
   "cell_type": "markdown",
   "metadata": {},
   "source": [
    "Tecт 4: Тестирование вставки данных о событиях с разным размером батча. (1_000_000 записей в таблице)."
   ]
  },
  {
   "cell_type": "code",
   "execution_count": 8,
   "metadata": {},
   "outputs": [
    {
     "name": "stdout",
     "output_type": "stream",
     "text": [
      "Загрузка батчами выполнена за 0.00926\n",
      "Загрузка батчами выполнена за 0.00852\n",
      "Загрузка батчами выполнена за 0.02172\n",
      "Загрузка батчами выполнена за 0.14707\n",
      "Загрузка батчами выполнена за 0.86223\n"
     ]
    }
   ],
   "source": [
    "benchmark.test_insert(1)\n",
    "benchmark.test_insert(10)\n",
    "benchmark.test_insert(100)\n",
    "benchmark.test_insert(1000)\n",
    "benchmark.test_insert(10000)\n"
   ]
  },
  {
   "cell_type": "markdown",
   "metadata": {},
   "source": [
    "Тест 5: Тестирование поиска данных о событиях. (1_000_000 записей в таблице)"
   ]
  },
  {
   "cell_type": "code",
   "execution_count": 9,
   "metadata": {},
   "outputs": [
    {
     "name": "stdout",
     "output_type": "stream",
     "text": [
      "Поиск фильма выполнена за 0.44296\n"
     ]
    }
   ],
   "source": [
    "benchmark.test_select(storage)"
   ]
  },
  {
   "cell_type": "markdown",
   "metadata": {},
   "source": [
    "Тест 6: Тестирование обновления данных о событиях. (1_000_000 записей в таблице)"
   ]
  },
  {
   "cell_type": "code",
   "execution_count": 11,
   "metadata": {},
   "outputs": [
    {
     "ename": "KeyboardInterrupt",
     "evalue": "",
     "output_type": "error",
     "traceback": [
      "\u001b[0;31m---------------------------------------------------------------------------\u001b[0m",
      "\u001b[0;31mKeyboardInterrupt\u001b[0m                         Traceback (most recent call last)",
      "Cell \u001b[0;32mIn [11], line 1\u001b[0m\n\u001b[0;32m----> 1\u001b[0m benchmark\u001b[39m.\u001b[39;49mtest_select_with_update(storage)\n",
      "File \u001b[0;32m~/Python/00_ya/ugc_sprint_1/benchmark/sprint_9/utils/decorators.py:10\u001b[0m, in \u001b[0;36mtimer.<locals>.timer_decorator.<locals>._wrapper\u001b[0;34m(*args, **kwargs)\u001b[0m\n\u001b[1;32m      7\u001b[0m \u001b[39m@wraps\u001b[39m(func)\n\u001b[1;32m      8\u001b[0m \u001b[39mdef\u001b[39;00m \u001b[39m_wrapper\u001b[39m(\u001b[39m*\u001b[39margs, \u001b[39m*\u001b[39m\u001b[39m*\u001b[39mkwargs):\n\u001b[1;32m      9\u001b[0m     start \u001b[39m=\u001b[39m time()\n\u001b[0;32m---> 10\u001b[0m     func(\u001b[39m*\u001b[39;49margs, \u001b[39m*\u001b[39;49m\u001b[39m*\u001b[39;49mkwargs)\n\u001b[1;32m     11\u001b[0m     stop \u001b[39m=\u001b[39m time()\n\u001b[1;32m     12\u001b[0m     func_time \u001b[39m=\u001b[39m stop \u001b[39m-\u001b[39m start\n",
      "File \u001b[0;32m~/Python/00_ya/ugc_sprint_1/benchmark/sprint_9/utils/base_benchmark.py:91\u001b[0m, in \u001b[0;36mBaseBenchmark.test_select_with_update\u001b[0;34m(self, storage)\u001b[0m\n\u001b[1;32m     89\u001b[0m record_count \u001b[39m=\u001b[39m start_record\n\u001b[1;32m     90\u001b[0m \u001b[39mwhile\u001b[39;00m record_count \u001b[39m!=\u001b[39m start_record \u001b[39m+\u001b[39m \u001b[39m100\u001b[39m:\n\u001b[0;32m---> 91\u001b[0m     record_count \u001b[39m=\u001b[39m storage\u001b[39m.\u001b[39;49mget_number_record(settings\u001b[39m.\u001b[39;49mtest_data\u001b[39m.\u001b[39;49mUUID)\n",
      "File \u001b[0;32m~/Python/00_ya/ugc_sprint_1/benchmark/sprint_9/clickhouse/clickhouse.py:28\u001b[0m, in \u001b[0;36mCHStorage.get_number_record\u001b[0;34m(self, movie_id)\u001b[0m\n\u001b[1;32m     26\u001b[0m \u001b[39mdef\u001b[39;00m \u001b[39mget_number_record\u001b[39m(\u001b[39mself\u001b[39m, movie_id: \u001b[39mstr\u001b[39m) \u001b[39m-\u001b[39m\u001b[39m>\u001b[39m \u001b[39mint\u001b[39m:\n\u001b[1;32m     27\u001b[0m     command \u001b[39m=\u001b[39m \u001b[39mf\u001b[39m\u001b[39m'\u001b[39m\u001b[39mSELECT COUNT(*) from \u001b[39m\u001b[39m{\u001b[39;00msettings\u001b[39m.\u001b[39mtest_data\u001b[39m.\u001b[39mTABLE\u001b[39m}\u001b[39;00m\u001b[39m'\u001b[39m\n\u001b[0;32m---> 28\u001b[0m     \u001b[39mreturn\u001b[39;00m \u001b[39mself\u001b[39;49m\u001b[39m.\u001b[39;49mclient\u001b[39m.\u001b[39;49mexecute(command)[\u001b[39m0\u001b[39m][\u001b[39m0\u001b[39m]\n",
      "File \u001b[0;32m/Library/Frameworks/Python.framework/Versions/3.10/lib/python3.10/site-packages/clickhouse_driver/client.py:304\u001b[0m, in \u001b[0;36mClient.execute\u001b[0;34m(self, query, params, with_column_types, external_tables, query_id, settings, types_check, columnar)\u001b[0m\n\u001b[1;32m    298\u001b[0m     rv \u001b[39m=\u001b[39m \u001b[39mself\u001b[39m\u001b[39m.\u001b[39mprocess_insert_query(\n\u001b[1;32m    299\u001b[0m         query, params, external_tables\u001b[39m=\u001b[39mexternal_tables,\n\u001b[1;32m    300\u001b[0m         query_id\u001b[39m=\u001b[39mquery_id, types_check\u001b[39m=\u001b[39mtypes_check,\n\u001b[1;32m    301\u001b[0m         columnar\u001b[39m=\u001b[39mcolumnar\n\u001b[1;32m    302\u001b[0m     )\n\u001b[1;32m    303\u001b[0m \u001b[39melse\u001b[39;00m:\n\u001b[0;32m--> 304\u001b[0m     rv \u001b[39m=\u001b[39m \u001b[39mself\u001b[39;49m\u001b[39m.\u001b[39;49mprocess_ordinary_query(\n\u001b[1;32m    305\u001b[0m         query, params\u001b[39m=\u001b[39;49mparams, with_column_types\u001b[39m=\u001b[39;49mwith_column_types,\n\u001b[1;32m    306\u001b[0m         external_tables\u001b[39m=\u001b[39;49mexternal_tables,\n\u001b[1;32m    307\u001b[0m         query_id\u001b[39m=\u001b[39;49mquery_id, types_check\u001b[39m=\u001b[39;49mtypes_check,\n\u001b[1;32m    308\u001b[0m         columnar\u001b[39m=\u001b[39;49mcolumnar\n\u001b[1;32m    309\u001b[0m     )\n\u001b[1;32m    310\u001b[0m \u001b[39mself\u001b[39m\u001b[39m.\u001b[39mlast_query\u001b[39m.\u001b[39mstore_elapsed(time() \u001b[39m-\u001b[39m start_time)\n\u001b[1;32m    311\u001b[0m \u001b[39mreturn\u001b[39;00m rv\n",
      "File \u001b[0;32m/Library/Frameworks/Python.framework/Versions/3.10/lib/python3.10/site-packages/clickhouse_driver/client.py:491\u001b[0m, in \u001b[0;36mClient.process_ordinary_query\u001b[0;34m(self, query, params, with_column_types, external_tables, query_id, types_check, columnar)\u001b[0m\n\u001b[1;32m    488\u001b[0m \u001b[39mself\u001b[39m\u001b[39m.\u001b[39mconnection\u001b[39m.\u001b[39msend_query(query, query_id\u001b[39m=\u001b[39mquery_id)\n\u001b[1;32m    489\u001b[0m \u001b[39mself\u001b[39m\u001b[39m.\u001b[39mconnection\u001b[39m.\u001b[39msend_external_tables(external_tables,\n\u001b[1;32m    490\u001b[0m                                      types_check\u001b[39m=\u001b[39mtypes_check)\n\u001b[0;32m--> 491\u001b[0m \u001b[39mreturn\u001b[39;00m \u001b[39mself\u001b[39;49m\u001b[39m.\u001b[39;49mreceive_result(with_column_types\u001b[39m=\u001b[39;49mwith_column_types,\n\u001b[1;32m    492\u001b[0m                            columnar\u001b[39m=\u001b[39;49mcolumnar)\n",
      "File \u001b[0;32m/Library/Frameworks/Python.framework/Versions/3.10/lib/python3.10/site-packages/clickhouse_driver/client.py:151\u001b[0m, in \u001b[0;36mClient.receive_result\u001b[0;34m(self, with_column_types, progress, columnar)\u001b[0m\n\u001b[1;32m    147\u001b[0m \u001b[39melse\u001b[39;00m:\n\u001b[1;32m    148\u001b[0m     result \u001b[39m=\u001b[39m \u001b[39mself\u001b[39m\u001b[39m.\u001b[39mquery_result_cls(\n\u001b[1;32m    149\u001b[0m         gen, with_column_types\u001b[39m=\u001b[39mwith_column_types, columnar\u001b[39m=\u001b[39mcolumnar\n\u001b[1;32m    150\u001b[0m     )\n\u001b[0;32m--> 151\u001b[0m     \u001b[39mreturn\u001b[39;00m result\u001b[39m.\u001b[39;49mget_result()\n",
      "File \u001b[0;32m/Library/Frameworks/Python.framework/Versions/3.10/lib/python3.10/site-packages/clickhouse_driver/result.py:50\u001b[0m, in \u001b[0;36mQueryResult.get_result\u001b[0;34m(self)\u001b[0m\n\u001b[1;32m     45\u001b[0m \u001b[39mdef\u001b[39;00m \u001b[39mget_result\u001b[39m(\u001b[39mself\u001b[39m):\n\u001b[1;32m     46\u001b[0m     \u001b[39m\"\"\"\u001b[39;00m\n\u001b[1;32m     47\u001b[0m \u001b[39m    :return: stored query result.\u001b[39;00m\n\u001b[1;32m     48\u001b[0m \u001b[39m    \"\"\"\u001b[39;00m\n\u001b[0;32m---> 50\u001b[0m     \u001b[39mfor\u001b[39;00m packet \u001b[39min\u001b[39;00m \u001b[39mself\u001b[39m\u001b[39m.\u001b[39mpacket_generator:\n\u001b[1;32m     51\u001b[0m         \u001b[39mself\u001b[39m\u001b[39m.\u001b[39mstore(packet)\n\u001b[1;32m     53\u001b[0m     data \u001b[39m=\u001b[39m \u001b[39mself\u001b[39m\u001b[39m.\u001b[39mdata\n",
      "File \u001b[0;32m/Library/Frameworks/Python.framework/Versions/3.10/lib/python3.10/site-packages/clickhouse_driver/client.py:167\u001b[0m, in \u001b[0;36mClient.packet_generator\u001b[0;34m(self)\u001b[0m\n\u001b[1;32m    165\u001b[0m \u001b[39mwhile\u001b[39;00m \u001b[39mTrue\u001b[39;00m:\n\u001b[1;32m    166\u001b[0m     \u001b[39mtry\u001b[39;00m:\n\u001b[0;32m--> 167\u001b[0m         packet \u001b[39m=\u001b[39m \u001b[39mself\u001b[39;49m\u001b[39m.\u001b[39;49mreceive_packet()\n\u001b[1;32m    168\u001b[0m         \u001b[39mif\u001b[39;00m \u001b[39mnot\u001b[39;00m packet:\n\u001b[1;32m    169\u001b[0m             \u001b[39mbreak\u001b[39;00m\n",
      "File \u001b[0;32m/Library/Frameworks/Python.framework/Versions/3.10/lib/python3.10/site-packages/clickhouse_driver/client.py:181\u001b[0m, in \u001b[0;36mClient.receive_packet\u001b[0;34m(self)\u001b[0m\n\u001b[1;32m    180\u001b[0m \u001b[39mdef\u001b[39;00m \u001b[39mreceive_packet\u001b[39m(\u001b[39mself\u001b[39m):\n\u001b[0;32m--> 181\u001b[0m     packet \u001b[39m=\u001b[39m \u001b[39mself\u001b[39;49m\u001b[39m.\u001b[39;49mconnection\u001b[39m.\u001b[39;49mreceive_packet()\n\u001b[1;32m    183\u001b[0m     \u001b[39mif\u001b[39;00m packet\u001b[39m.\u001b[39mtype \u001b[39m==\u001b[39m ServerPacketTypes\u001b[39m.\u001b[39mEXCEPTION:\n\u001b[1;32m    184\u001b[0m         \u001b[39mraise\u001b[39;00m packet\u001b[39m.\u001b[39mexception\n",
      "File \u001b[0;32m/Library/Frameworks/Python.framework/Versions/3.10/lib/python3.10/site-packages/clickhouse_driver/connection.py:482\u001b[0m, in \u001b[0;36mConnection.receive_packet\u001b[0;34m(self)\u001b[0m\n\u001b[1;32m    479\u001b[0m \u001b[39mdef\u001b[39;00m \u001b[39mreceive_packet\u001b[39m(\u001b[39mself\u001b[39m):\n\u001b[1;32m    480\u001b[0m     packet \u001b[39m=\u001b[39m Packet()\n\u001b[0;32m--> 482\u001b[0m     packet\u001b[39m.\u001b[39mtype \u001b[39m=\u001b[39m packet_type \u001b[39m=\u001b[39m read_varint(\u001b[39mself\u001b[39;49m\u001b[39m.\u001b[39;49mfin)\n\u001b[1;32m    484\u001b[0m     \u001b[39mif\u001b[39;00m packet_type \u001b[39m==\u001b[39m ServerPacketTypes\u001b[39m.\u001b[39mDATA:\n\u001b[1;32m    485\u001b[0m         packet\u001b[39m.\u001b[39mblock \u001b[39m=\u001b[39m \u001b[39mself\u001b[39m\u001b[39m.\u001b[39mreceive_data(may_be_use_numpy\u001b[39m=\u001b[39m\u001b[39mTrue\u001b[39;00m)\n",
      "File \u001b[0;32mclickhouse_driver/varint.pyx:62\u001b[0m, in \u001b[0;36mclickhouse_driver.varint.read_varint\u001b[0;34m()\u001b[0m\n",
      "File \u001b[0;32mclickhouse_driver/bufferedreader.pyx:55\u001b[0m, in \u001b[0;36mclickhouse_driver.bufferedreader.BufferedReader.read_one\u001b[0;34m()\u001b[0m\n",
      "File \u001b[0;32mclickhouse_driver/bufferedreader.pyx:237\u001b[0m, in \u001b[0;36mclickhouse_driver.bufferedreader.BufferedSocketReader.read_into_buffer\u001b[0;34m()\u001b[0m\n",
      "\u001b[0;31mKeyboardInterrupt\u001b[0m: "
     ]
    }
   ],
   "source": [
    "benchmark.test_select_with_update(storage)"
   ]
  }
 ],
 "metadata": {
  "kernelspec": {
   "display_name": "Python 3.10.0 64-bit",
   "language": "python",
   "name": "python3"
  },
  "language_info": {
   "codemirror_mode": {
    "name": "ipython",
    "version": 3
   },
   "file_extension": ".py",
   "mimetype": "text/x-python",
   "name": "python",
   "nbconvert_exporter": "python",
   "pygments_lexer": "ipython3",
   "version": "3.10.0"
  },
  "orig_nbformat": 4,
  "vscode": {
   "interpreter": {
    "hash": "aee8b7b246df8f9039afb4144a1f6fd8d2ca17a180786b69acc140d282b71a49"
   }
  }
 },
 "nbformat": 4,
 "nbformat_minor": 2
}
