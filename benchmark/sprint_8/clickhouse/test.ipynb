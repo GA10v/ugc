{
 "cells": [
  {
   "cell_type": "code",
   "execution_count": 1,
   "metadata": {},
   "outputs": [],
   "source": [
    "from utils.settings import settings\n",
    "from utils.clickhouse import ClickhouseClient\n",
    "from utils import utils"
   ]
  },
  {
   "cell_type": "code",
   "execution_count": 2,
   "metadata": {},
   "outputs": [],
   "source": [
    "ch_client = ClickhouseClient(host=settings.clickhouse.HOST)\n",
    "\n",
    "ch_client.create_db(name=settings.clickhouse.DATABASE, cluster=settings.clickhouse.CLUSTER_NAME)\n",
    "ch_client.create_db(name=settings.clickhouse.SHARD_DB, cluster=settings.clickhouse.CLUSTER_NAME)\n",
    "ch_client.create_db(name=settings.clickhouse.REPLICA_DB, cluster=settings.clickhouse.CLUSTER_NAME)\n",
    "\n",
    "table_name = settings.test_data.TABLE\n",
    "movie_id = settings.test_data.UUID\n",
    "\n",
    "ch_client.create_replicated_table(table_name=table_name)\n",
    "ch_client.create_distributed_table(table_name=table_name)"
   ]
  },
  {
   "cell_type": "markdown",
   "metadata": {},
   "source": [
    "Tecт 1: Тестирование вставки данных о событиях с разным размером батча. (нет записей в таблице)"
   ]
  },
  {
   "cell_type": "code",
   "execution_count": 3,
   "metadata": {},
   "outputs": [
    {
     "name": "stdout",
     "output_type": "stream",
     "text": [
      "========================================\n",
      "- Batch size: 1 items; \n",
      "- Benchmark: 0.01680898666381836 sec.\n",
      "========================================\n",
      "- Batch size: 10 items; \n",
      "- Benchmark: 0.018582820892333984 sec.\n",
      "========================================\n",
      "- Batch size: 100 items; \n",
      "- Benchmark: 0.041676998138427734 sec.\n",
      "========================================\n",
      "- Batch size: 1000 items; \n",
      "- Benchmark: 0.03969097137451172 sec.\n",
      "========================================\n",
      "- Batch size: 10000 items; \n",
      "- Benchmark: 0.15913796424865723 sec.\n"
     ]
    }
   ],
   "source": [
    "utils.test_insert_batch(client=ch_client, table_name=table_name)"
   ]
  },
  {
   "cell_type": "markdown",
   "metadata": {},
   "source": [
    "Tecт 2: Тестирование поиска данных о событиях. (< 15_000 записей в таблице)"
   ]
  },
  {
   "cell_type": "code",
   "execution_count": 4,
   "metadata": {},
   "outputs": [
    {
     "name": "stdout",
     "output_type": "stream",
     "text": [
      "========================================\n",
      "- Records: 12111 items; \n",
      "- Benchmark: 0.02649092674255371 sec.\n"
     ]
    }
   ],
   "source": [
    "utils.test_select(client=ch_client, table_name=table_name, movie_id=movie_id)"
   ]
  },
  {
   "cell_type": "markdown",
   "metadata": {},
   "source": [
    "Tecт 3: Тестирование вставки батча в 1_000_000 записей. (< 15_000 записей в таблице)."
   ]
  },
  {
   "cell_type": "code",
   "execution_count": 5,
   "metadata": {},
   "outputs": [
    {
     "name": "stdout",
     "output_type": "stream",
     "text": [
      "========================================\n",
      "- batch_size: 1000000 items; \n",
      "- Benchmark: 6.639285087585449 sec.\n"
     ]
    }
   ],
   "source": [
    "utils.stress_test_insert(client=ch_client, table_name=table_name)"
   ]
  },
  {
   "cell_type": "markdown",
   "metadata": {},
   "source": [
    "Tecт 4: Тестирование вставки данных о событиях с разным размером батча. (1_000_000 записей в таблице)."
   ]
  },
  {
   "cell_type": "code",
   "execution_count": 6,
   "metadata": {},
   "outputs": [
    {
     "name": "stdout",
     "output_type": "stream",
     "text": [
      "========================================\n",
      "- Batch size: 1 items; \n",
      "- Benchmark: 0.0068781375885009766 sec.\n",
      "========================================\n",
      "- Batch size: 10 items; \n",
      "- Benchmark: 0.007478952407836914 sec.\n",
      "========================================\n",
      "- Batch size: 100 items; \n",
      "- Benchmark: 0.020720243453979492 sec.\n",
      "========================================\n",
      "- Batch size: 1000 items; \n",
      "- Benchmark: 0.05561494827270508 sec.\n",
      "========================================\n",
      "- Batch size: 10000 items; \n",
      "- Benchmark: 0.12348628044128418 sec.\n"
     ]
    }
   ],
   "source": [
    "utils.test_insert_batch(client=ch_client, table_name=table_name)"
   ]
  },
  {
   "cell_type": "markdown",
   "metadata": {},
   "source": [
    "Тест 5: Тестирование поиска данных о событиях. (1_000_000 записей в таблице)"
   ]
  },
  {
   "cell_type": "code",
   "execution_count": 7,
   "metadata": {},
   "outputs": [
    {
     "name": "stdout",
     "output_type": "stream",
     "text": [
      "========================================\n",
      "- Records: 1024222 items; \n",
      "- Benchmark: 0.12501001358032227 sec.\n"
     ]
    }
   ],
   "source": [
    "utils.test_select(client=ch_client, table_name=table_name, movie_id=movie_id)"
   ]
  }
 ],
 "metadata": {
  "kernelspec": {
   "display_name": "Python 3.10.0 ('.venv': poetry)",
   "language": "python",
   "name": "python3"
  },
  "language_info": {
   "codemirror_mode": {
    "name": "ipython",
    "version": 3
   },
   "file_extension": ".py",
   "mimetype": "text/x-python",
   "name": "python",
   "nbconvert_exporter": "python",
   "pygments_lexer": "ipython3",
   "version": "3.10.0"
  },
  "orig_nbformat": 4,
  "vscode": {
   "interpreter": {
    "hash": "f7be1721f1ec32af4d468834dc39cc97ee28382ca4b495d80ab524afc207c911"
   }
  }
 },
 "nbformat": 4,
 "nbformat_minor": 2
}
