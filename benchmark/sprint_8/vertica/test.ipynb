{
 "cells": [
  {
   "cell_type": "code",
   "execution_count": 1,
   "metadata": {},
   "outputs": [],
   "source": [
    "from utils.settings import settings\n",
    "from utils.vertica import VerticaClient\n",
    "from utils import utils"
   ]
  },
  {
   "cell_type": "code",
   "execution_count": 2,
   "metadata": {},
   "outputs": [],
   "source": [
    "v_client = VerticaClient(settings.vertica.connection_info)\n",
    "\n",
    "table_name = settings.test_data.TABLE\n",
    "movie_id = settings.test_data.UUID\n",
    "\n",
    "v_client.create_table(table_name=table_name)"
   ]
  },
  {
   "cell_type": "markdown",
   "metadata": {},
   "source": [
    "Tecт 1: Тестирование вставки данных о событиях с разным размером батча. (нет записей в таблице)"
   ]
  },
  {
   "cell_type": "code",
   "execution_count": 3,
   "metadata": {},
   "outputs": [
    {
     "name": "stdout",
     "output_type": "stream",
     "text": [
      "========================================\n",
      "- Batch size: 1 items; \n",
      "- Benchmark: 0.035368919372558594 sec.\n",
      "========================================\n",
      "- Batch size: 10 items; \n",
      "- Benchmark: 0.01976776123046875 sec.\n",
      "========================================\n",
      "- Batch size: 100 items; \n",
      "- Benchmark: 0.02707815170288086 sec.\n",
      "========================================\n",
      "- Batch size: 1000 items; \n",
      "- Benchmark: 0.0434870719909668 sec.\n",
      "========================================\n",
      "- Batch size: 10000 items; \n",
      "- Benchmark: 0.33097195625305176 sec.\n"
     ]
    }
   ],
   "source": [
    "utils.test_insert_batch(client=v_client, table_name=table_name)"
   ]
  },
  {
   "cell_type": "markdown",
   "metadata": {},
   "source": [
    "Tecт 2: Тестирование поиска данных о событиях. (< 15_000 записей в таблице)"
   ]
  },
  {
   "cell_type": "code",
   "execution_count": 4,
   "metadata": {},
   "outputs": [
    {
     "name": "stdout",
     "output_type": "stream",
     "text": [
      "========================================\n",
      "- Records: 12111 items; \n",
      "- Benchmark: 0.02503514289855957 sec.\n"
     ]
    }
   ],
   "source": [
    "utils.test_select(client=v_client, table_name=table_name, movie_id=movie_id)"
   ]
  },
  {
   "cell_type": "markdown",
   "metadata": {},
   "source": [
    "Tecт 3: Тестирование вставки батча в 1_000_000 записей. (< 15_000 записей в таблице)."
   ]
  },
  {
   "cell_type": "code",
   "execution_count": 5,
   "metadata": {},
   "outputs": [
    {
     "name": "stdout",
     "output_type": "stream",
     "text": [
      "========================================\n",
      "- batch_size: 1000000 items; \n",
      "- Benchmark: 19.108170986175537 sec.\n"
     ]
    }
   ],
   "source": [
    "utils.stress_test_insert(client=v_client, table_name=table_name)"
   ]
  },
  {
   "cell_type": "markdown",
   "metadata": {},
   "source": [
    "Tecт 4: Тестирование вставки данных о событиях с разным размером батча. (1_000_000 записей в таблице)."
   ]
  },
  {
   "cell_type": "code",
   "execution_count": 6,
   "metadata": {},
   "outputs": [
    {
     "name": "stdout",
     "output_type": "stream",
     "text": [
      "========================================\n",
      "- Batch size: 1 items; \n",
      "- Benchmark: 0.03824782371520996 sec.\n",
      "========================================\n",
      "- Batch size: 10 items; \n",
      "- Benchmark: 0.02402782440185547 sec.\n",
      "========================================\n",
      "- Batch size: 100 items; \n",
      "- Benchmark: 0.01943802833557129 sec.\n",
      "========================================\n",
      "- Batch size: 1000 items; \n",
      "- Benchmark: 0.0558171272277832 sec.\n",
      "========================================\n",
      "- Batch size: 10000 items; \n",
      "- Benchmark: 0.21825814247131348 sec.\n"
     ]
    }
   ],
   "source": [
    "utils.test_insert_batch(client=v_client, table_name=table_name)"
   ]
  },
  {
   "cell_type": "markdown",
   "metadata": {},
   "source": [
    "Тест 5: Тестирование поиска данных о событиях. (1_000_000 записей в таблице)"
   ]
  },
  {
   "cell_type": "code",
   "execution_count": 7,
   "metadata": {},
   "outputs": [
    {
     "name": "stdout",
     "output_type": "stream",
     "text": [
      "========================================\n",
      "- Records: 1024222 items; \n",
      "- Benchmark: 0.04642796516418457 sec.\n"
     ]
    }
   ],
   "source": [
    "utils.test_select(client=v_client, table_name=table_name, movie_id=movie_id)"
   ]
  }
 ],
 "metadata": {
  "kernelspec": {
   "display_name": "Python 3.10.0 ('.venv': poetry)",
   "language": "python",
   "name": "python3"
  },
  "language_info": {
   "codemirror_mode": {
    "name": "ipython",
    "version": 3
   },
   "file_extension": ".py",
   "mimetype": "text/x-python",
   "name": "python",
   "nbconvert_exporter": "python",
   "pygments_lexer": "ipython3",
   "version": "3.10.0"
  },
  "orig_nbformat": 4,
  "vscode": {
   "interpreter": {
    "hash": "f7be1721f1ec32af4d468834dc39cc97ee28382ca4b495d80ab524afc207c911"
   }
  }
 },
 "nbformat": 4,
 "nbformat_minor": 2
}
